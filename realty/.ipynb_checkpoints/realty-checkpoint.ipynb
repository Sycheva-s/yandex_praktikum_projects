{
 "cells": [
  {
   "cell_type": "markdown",
   "metadata": {
    "toc": true
   },
   "source": [
    "<h1>Содержание<span class=\"tocSkip\"></span></h1>\n",
    "<div class=\"toc\"><ul class=\"toc-item\"><li><span><a href=\"#Обзор-данных\" data-toc-modified-id=\"Обзор-данных-1\"><span class=\"toc-item-num\">1&nbsp;&nbsp;</span>Обзор данных</a></span></li><li><span><a href=\"#Предобработка-данных\" data-toc-modified-id=\"Предобработка-данных-2\"><span class=\"toc-item-num\">2&nbsp;&nbsp;</span>Предобработка данных</a></span></li><li><span><a href=\"#Дополнение-таблицы\" data-toc-modified-id=\"Дополнение-таблицы-3\"><span class=\"toc-item-num\">3&nbsp;&nbsp;</span>Дополнение таблицы</a></span></li><li><span><a href=\"#Исследовательский-анализ-данных-и-выполнение-инструкции-заказчика\" data-toc-modified-id=\"Исследовательский-анализ-данных-и-выполнение-инструкции-заказчика-4\"><span class=\"toc-item-num\">4&nbsp;&nbsp;</span>Исследовательский анализ данных и выполнение инструкции заказчика</a></span></li><li><span><a href=\"#Общий-вывод\" data-toc-modified-id=\"Общий-вывод-5\"><span class=\"toc-item-num\">5&nbsp;&nbsp;</span>Общий вывод</a></span></li></ul></div>"
   ]
  },
  {
   "cell_type": "markdown",
   "metadata": {},
   "source": [
    "# Исследование объявлений о продаже квартир\n",
    "\n",
    "В вашем распоряжении данные сервиса Яндекс.Недвижимость — архив объявлений о продаже квартир в Санкт-Петербурге и соседних населённых пунктов за несколько лет. Нужно научиться определять рыночную стоимость объектов недвижимости. Ваша задача — установить параметры. Это позволит построить автоматизированную систему: она отследит аномалии и мошенническую деятельность. \n",
    "\n",
    "По каждой квартире на продажу доступны два вида данных. Первые вписаны пользователем, вторые — получены автоматически на основе картографических данных. Например, расстояние до центра, аэропорта, ближайшего парка и водоёма. "
   ]
  },
  {
   "cell_type": "markdown",
   "metadata": {},
   "source": [
    "### Обзор данных"
   ]
  },
  {
   "cell_type": "code",
   "execution_count": 1,
   "metadata": {
    "scrolled": true
   },
   "outputs": [
    {
     "name": "stdout",
     "output_type": "stream",
     "text": [
      "<class 'pandas.core.frame.DataFrame'>\n",
      "RangeIndex: 23699 entries, 0 to 23698\n",
      "Data columns (total 22 columns):\n",
      "total_images            23699 non-null int64\n",
      "last_price              23699 non-null float64\n",
      "total_area              23699 non-null float64\n",
      "first_day_exposition    23699 non-null object\n",
      "rooms                   23699 non-null int64\n",
      "ceiling_height          14504 non-null float64\n",
      "floors_total            23613 non-null float64\n",
      "living_area             21796 non-null float64\n",
      "floor                   23699 non-null int64\n",
      "is_apartment            2775 non-null object\n",
      "studio                  23699 non-null bool\n",
      "open_plan               23699 non-null bool\n",
      "kitchen_area            21421 non-null float64\n",
      "balcony                 12180 non-null float64\n",
      "locality_name           23650 non-null object\n",
      "airports_nearest        18157 non-null float64\n",
      "cityCenters_nearest     18180 non-null float64\n",
      "parks_around3000        18181 non-null float64\n",
      "parks_nearest           8079 non-null float64\n",
      "ponds_around3000        18181 non-null float64\n",
      "ponds_nearest           9110 non-null float64\n",
      "days_exposition         20518 non-null float64\n",
      "dtypes: bool(2), float64(14), int64(3), object(3)\n",
      "memory usage: 3.7+ MB\n",
      "None\n",
      "\n",
      "       total_images    last_price    total_area         rooms  ceiling_height  \\\n",
      "count  23699.000000  2.369900e+04  23699.000000  23699.000000    14504.000000   \n",
      "mean       9.858475  6.541549e+06     60.348651      2.070636        2.771499   \n",
      "std        5.682529  1.088701e+07     35.654083      1.078405        1.261056   \n",
      "min        0.000000  1.219000e+04     12.000000      0.000000        1.000000   \n",
      "25%        6.000000  3.400000e+06     40.000000      1.000000        2.520000   \n",
      "50%        9.000000  4.650000e+06     52.000000      2.000000        2.650000   \n",
      "75%       14.000000  6.800000e+06     69.900000      3.000000        2.800000   \n",
      "max       50.000000  7.630000e+08    900.000000     19.000000      100.000000   \n",
      "\n",
      "       floors_total   living_area         floor  kitchen_area       balcony  \\\n",
      "count  23613.000000  21796.000000  23699.000000  21421.000000  12180.000000   \n",
      "mean      10.673824     34.457852      5.892358     10.569807      1.150082   \n",
      "std        6.597173     22.030445      4.885249      5.905438      1.071300   \n",
      "min        1.000000      2.000000      1.000000      1.300000      0.000000   \n",
      "25%        5.000000     18.600000      2.000000      7.000000      0.000000   \n",
      "50%        9.000000     30.000000      4.000000      9.100000      1.000000   \n",
      "75%       16.000000     42.300000      8.000000     12.000000      2.000000   \n",
      "max       60.000000    409.700000     33.000000    112.000000      5.000000   \n",
      "\n",
      "       airports_nearest  cityCenters_nearest  parks_around3000  parks_nearest  \\\n",
      "count      18157.000000         18180.000000      18181.000000    8079.000000   \n",
      "mean       28793.672193         14191.277833          0.611408     490.804555   \n",
      "std        12630.880622          8608.386210          0.802074     342.317995   \n",
      "min            0.000000           181.000000          0.000000       1.000000   \n",
      "25%        18585.000000          9238.000000          0.000000     288.000000   \n",
      "50%        26726.000000         13098.500000          0.000000     455.000000   \n",
      "75%        37273.000000         16293.000000          1.000000     612.000000   \n",
      "max        84869.000000         65968.000000          3.000000    3190.000000   \n",
      "\n",
      "       ponds_around3000  ponds_nearest  days_exposition  \n",
      "count      18181.000000    9110.000000     20518.000000  \n",
      "mean           0.770255     517.980900       180.888634  \n",
      "std            0.938346     277.720643       219.727988  \n",
      "min            0.000000      13.000000         1.000000  \n",
      "25%            0.000000     294.000000        45.000000  \n",
      "50%            1.000000     502.000000        95.000000  \n",
      "75%            1.000000     729.000000       232.000000  \n",
      "max            3.000000    1344.000000      1580.000000  \n",
      "\n",
      "   total_images  last_price  total_area first_day_exposition  rooms  \\\n",
      "0            20  13000000.0       108.0  2019-03-07T00:00:00      3   \n",
      "1             7   3350000.0        40.4  2018-12-04T00:00:00      1   \n",
      "2            10   5196000.0        56.0  2015-08-20T00:00:00      2   \n",
      "3             0  64900000.0       159.0  2015-07-24T00:00:00      3   \n",
      "4             2  10000000.0       100.0  2018-06-19T00:00:00      2   \n",
      "\n",
      "   ceiling_height  floors_total  living_area  floor is_apartment  ...  \\\n",
      "0            2.70          16.0         51.0      8          NaN  ...   \n",
      "1             NaN          11.0         18.6      1          NaN  ...   \n",
      "2             NaN           5.0         34.3      4          NaN  ...   \n",
      "3             NaN          14.0          NaN      9          NaN  ...   \n",
      "4            3.03          14.0         32.0     13          NaN  ...   \n",
      "\n",
      "   kitchen_area  balcony    locality_name  airports_nearest  \\\n",
      "0          25.0      NaN  Санкт-Петербург           18863.0   \n",
      "1          11.0      2.0   посёлок Шушары           12817.0   \n",
      "2           8.3      0.0  Санкт-Петербург           21741.0   \n",
      "3           NaN      0.0  Санкт-Петербург           28098.0   \n",
      "4          41.0      NaN  Санкт-Петербург           31856.0   \n",
      "\n",
      "  cityCenters_nearest  parks_around3000  parks_nearest  ponds_around3000  \\\n",
      "0             16028.0               1.0          482.0               2.0   \n",
      "1             18603.0               0.0            NaN               0.0   \n",
      "2             13933.0               1.0           90.0               2.0   \n",
      "3              6800.0               2.0           84.0               3.0   \n",
      "4              8098.0               2.0          112.0               1.0   \n",
      "\n",
      "   ponds_nearest  days_exposition  \n",
      "0          755.0              NaN  \n",
      "1            NaN             81.0  \n",
      "2          574.0            558.0  \n",
      "3          234.0            424.0  \n",
      "4           48.0            121.0  \n",
      "\n",
      "[5 rows x 22 columns]\n"
     ]
    }
   ],
   "source": [
    "import pandas as pd\n",
    "import matplotlib.pyplot as plt\n",
    "df=pd.read_csv('/datasets/real_estate_data.csv', sep='\\t')\n",
    "print(df.info())\n",
    "print()\n",
    "\n",
    "print(df.describe())\n",
    "print()\n",
    "print(df.head())"
   ]
  },
  {
   "cell_type": "markdown",
   "metadata": {},
   "source": [
    "**Вывод**   \n",
    "Пропущенные значение есть во многих столбцах. Возможно это связано с ошибками оператора, который записывал значения в таблицу. Еще возможны ошибки выгрузки. Пропуски в столбцах расстояние до центра, аэропорта, ближайшего парка и водоёма можно объснить тем, что не все квартиры имели картографические данные.  \n",
    "В значениях столца ceiling_height  есть аномально маленькие (1м) и аномально большие (100м) значения."
   ]
  },
  {
   "cell_type": "markdown",
   "metadata": {},
   "source": [
    "### Предобработка данных"
   ]
  },
  {
   "cell_type": "code",
   "execution_count": 2,
   "metadata": {},
   "outputs": [
    {
     "name": "stdout",
     "output_type": "stream",
     "text": [
      "Непрадоподнобных потолков: 70\n",
      "\n",
      "    hight_type  ceiling_height_median  count\n",
      "0      unknown                  2.800     86\n",
      "1      высотка                  2.700   6004\n",
      "2   малоэтажка                  2.850   2276\n",
      "3  многоэтажка                  2.600  15331\n",
      "4    небоскреб                  2.765      2\n"
     ]
    }
   ],
   "source": [
    "#Изучим отдельно аномально низкие и высокие потолки:\n",
    "df1=df.query('ceiling_height<2.4 or ceiling_height>=4.5')\n",
    "print('Непрадоподнобных потолков:', len(df1))\n",
    "print()\n",
    "#Их немного, удалим их\n",
    "\n",
    "def ceiling(row):\n",
    "    if row['ceiling_height']==row['ceiling_height'] and row['ceiling_height']>=2.4 and row['ceiling_height']<4.5:\n",
    "        return row['ceiling_height']\n",
    "\n",
    "df['ceiling_height']=df.apply(ceiling, axis=1)\n",
    "\n",
    "#Количество NaN в ceiling_height увеличилось на кол-во неправдоподобных ceiling_height\n",
    "#Заполим пропуски в ceiling_height в зависимости от этажност здания\n",
    "\n",
    "#Категоризиуем столбец с количеством этажей\n",
    "def categoryzation(row):\n",
    "    i=row['floors_total']\n",
    "    if i<5:\n",
    "        return 'малоэтажка'\n",
    "    if i<16:\n",
    "        return 'многоэтажка'\n",
    "    if i<45:\n",
    "        return 'высотка'\n",
    "    if i<=60:\n",
    "        return 'небоскреб'\n",
    "    else:\n",
    "        return 'unknown'\n",
    "\n",
    "df['hight_type']=df.apply(categoryzation, axis=1) \n",
    "\n",
    "#Найдем средние значения ceiling_height для каждой группы hight_type\n",
    "log = df.groupby('hight_type').agg({'ceiling_height':['median'],'total_images':['count']}).reset_index()\n",
    "log.columns=['hight_type', 'ceiling_height_median', 'count']\n",
    "print(log)\n",
    "\n",
    "#Создадим ф-ию для замены пропусков ceiling_height:\n",
    "def func(row):\n",
    "    if row['ceiling_height']==row['ceiling_height']:\n",
    "        return row['ceiling_height']\n",
    "    else:\n",
    "        if row['hight_type']=='малоэтажка':\n",
    "            return log.loc[2, 'ceiling_height_median']\n",
    "        elif row['hight_type']=='многоэтажка':\n",
    "            return log.loc[3, 'ceiling_height_median']\n",
    "        elif row['hight_type']=='высотка':\n",
    "            return log.loc[1, 'ceiling_height_median']\n",
    "        elif row['hight_type']=='небоскреб':\n",
    "            return log.loc[4, 'ceiling_height_median']\n",
    "        elif row['hight_type']=='unknown':\n",
    "            return log.loc[0, 'ceiling_height_median']\n",
    "\n",
    "df['ceiling_height']=df.apply(func, axis=1)\n",
    "\n",
    "#Изменим все буквы на строчные и заменим ё на е\n",
    "df['locality_name']=df['locality_name'].str.lower()\n",
    "df['locality_name']=df['locality_name'].str.replace('ё', 'е')\n",
    "\n",
    "#Заменим NaN в количестве балконов на 0\n",
    "df['balcony']=df['balcony'].fillna(0)\n",
    "\n",
    "\n",
    "#Замена типов данных\n",
    "df['first_day_exposition']= pd.to_datetime(df['first_day_exposition'], format='%Y-%m-%dT%H:%M:%S')\n",
    "df['balcony']=df['balcony'].astype('int')\n"
   ]
  },
  {
   "cell_type": "markdown",
   "metadata": {},
   "source": [
    "**Вывод**   \n",
    "Я изучила аномальные значения ceiling_height (меньше 2.4 м и больше 4.5 м), их немного, поэтому я их удалила. После заполнила пропуски ceiling_height медианами в зависимости от этажности здания. \n",
    "\n",
    "В названии населнных пунктов locality_name есть дубликаты с разным написанием букв. Чтобы это не мешало в дальнейших исследованиях я перевела все буквы в строчные и заменила буквы \"ё\" на \"е\".\n",
    "\n",
    "В стобце balcony пропуски скорее всего можно объясним тем, что в этих квартирах балконов нет. Эти пропуски заменила на 0. \n",
    "\n",
    "Я изменила тип данных в столбце first_day_exposition на datetime, потому что так будет удобнее работать с датами.\n",
    "\n",
    "Остальные пропуски оставила без изменений.\n"
   ]
  },
  {
   "cell_type": "markdown",
   "metadata": {},
   "source": [
    "###  Дополнение таблицы"
   ]
  },
  {
   "cell_type": "code",
   "execution_count": 3,
   "metadata": {},
   "outputs": [
    {
     "name": "stdout",
     "output_type": "stream",
     "text": [
      "<class 'pandas.core.frame.DataFrame'>\n",
      "RangeIndex: 23699 entries, 0 to 23698\n",
      "Data columns (total 30 columns):\n",
      "total_images            23699 non-null int64\n",
      "last_price              23699 non-null float64\n",
      "total_area              23699 non-null float64\n",
      "first_day_exposition    23699 non-null datetime64[ns]\n",
      "rooms                   23699 non-null int64\n",
      "ceiling_height          23699 non-null float64\n",
      "floors_total            23613 non-null float64\n",
      "living_area             21796 non-null float64\n",
      "floor                   23699 non-null int64\n",
      "is_apartment            2775 non-null object\n",
      "studio                  23699 non-null bool\n",
      "open_plan               23699 non-null bool\n",
      "kitchen_area            21421 non-null float64\n",
      "balcony                 23699 non-null int64\n",
      "locality_name           23650 non-null object\n",
      "airports_nearest        18157 non-null float64\n",
      "cityCenters_nearest     18180 non-null float64\n",
      "parks_around3000        18181 non-null float64\n",
      "parks_nearest           8079 non-null float64\n",
      "ponds_around3000        18181 non-null float64\n",
      "ponds_nearest           9110 non-null float64\n",
      "days_exposition         20518 non-null float64\n",
      "hight_type              23699 non-null object\n",
      "m2_price                23699 non-null float64\n",
      "weekday                 23699 non-null int64\n",
      "month                   23699 non-null int64\n",
      "year                    23699 non-null int64\n",
      "floor_category          23699 non-null object\n",
      "living_total_ratio      21796 non-null float64\n",
      "kitchen_total_ratio     21421 non-null float64\n",
      "dtypes: bool(2), datetime64[ns](1), float64(16), int64(7), object(4)\n",
      "memory usage: 5.1+ MB\n",
      "None\n"
     ]
    }
   ],
   "source": [
    "#Цена квадратного метра\n",
    "df['m2_price']=df['last_price']/df['total_area']\n",
    "\n",
    "#день недели, месяц и год публикации объявления\n",
    "df['weekday']=df['first_day_exposition'].dt.weekday\n",
    "df['month']=df['first_day_exposition'].dt.month\n",
    "df['year']=df['first_day_exposition'].dt.year\n",
    "\n",
    "#этаж квартиры; варианты — первый, последний, другой;\n",
    "def cat(row):\n",
    "    if row['floor']==1:\n",
    "        return 'первый'\n",
    "    if row['floor']==row['floors_total']:\n",
    "        return 'последний'\n",
    "    else:\n",
    "        return 'другой'\n",
    "df['floor_category']=df.apply(cat, axis=1)\n",
    "\n",
    "#соотношение жилой и общей площади, а также отношение площади кухни к общей\n",
    "df['living_total_ratio']=df['living_area']/df['total_area']\n",
    "df['kitchen_total_ratio']=df['kitchen_area']/df['total_area']\n",
    "#print(df.head())\n",
    "print(df.info())"
   ]
  },
  {
   "cell_type": "markdown",
   "metadata": {},
   "source": [
    "**Вывод**   \n",
    "Посчитала и добавила в таблицу:\n",
    "цену квадратного метра, день недели, месяц и год публикации объявления;\n",
    "тип этажа квартиры;\n",
    "соотношение жилой и общей площади, а также отношение площади кухни к общей."
   ]
  },
  {
   "cell_type": "markdown",
   "metadata": {},
   "source": [
    "###  Исследовательский анализ данных и выполнение инструкции заказчика"
   ]
  },
  {
   "cell_type": "code",
   "execution_count": 4,
   "metadata": {
    "scrolled": true
   },
   "outputs": [
    {
     "data": {
      "image/png": "[encoded data removed]",
      "text/plain": [
       "<Figure size 720x360 with 1 Axes>"
      ]
     },
     "metadata": {
      "needs_background": "light"
     },
     "output_type": "display_data"
    },
    {
     "name": "stdout",
     "output_type": "stream",
     "text": [
      "Минимальное значение total_area 12.0\n",
      "Максимальное значение total_area 900.0\n"
     ]
    },
    {
     "data": {
      "image/png": "[encoded data removed]",
      "text/plain": [
       "<Figure size 720x360 with 1 Axes>"
      ]
     },
     "metadata": {
      "needs_background": "light"
     },
     "output_type": "display_data"
    },
    {
     "name": "stdout",
     "output_type": "stream",
     "text": [
      "Минимальное значение last_price 12190.0\n",
      "Максимальное значение last_price 763000000.0\n"
     ]
    },
    {
     "data": {
      "image/png": "[encoded data removed]",
      "text/plain": [
       "<Figure size 720x360 with 1 Axes>"
      ]
     },
     "metadata": {
      "needs_background": "light"
     },
     "output_type": "display_data"
    },
    {
     "name": "stdout",
     "output_type": "stream",
     "text": [
      "Минимальное значение rooms 0\n",
      "Максимальное значение rooms 19\n"
     ]
    },
    {
     "data": {
      "image/png": "[encoded data removed]",
      "text/plain": [
       "<Figure size 720x360 with 1 Axes>"
      ]
     },
     "metadata": {
      "needs_background": "light"
     },
     "output_type": "display_data"
    },
    {
     "name": "stdout",
     "output_type": "stream",
     "text": [
      "Минимальное значение ceiling_height 2.4\n",
      "Максимальное значение ceiling_height 4.45\n",
      "\n"
     ]
    },
    {
     "data": {
      "image/png": "[encoded data removed]",
      "text/plain": [
       "<Figure size 432x288 with 1 Axes>"
      ]
     },
     "metadata": {
      "needs_background": "light"
     },
     "output_type": "display_data"
    },
    {
     "name": "stdout",
     "output_type": "stream",
     "text": [
      "Минимльное время продажи квартиры: 1.0\n",
      "Максимальное время продажи квартиры: 1580.0\n",
      "Среднее время продажи квартиры: 180.88863436982163\n",
      "Медианное время продажи квартиры: 95.0\n",
      "За первую неделю продаётся квартир: 3.58%\n",
      "\n",
      "Посмотрим коэф-ты корреляции с ценой:\n",
      "last_price             1.000000\n",
      "m2_price               0.736499\n",
      "total_area             0.653675\n",
      "living_area            0.566492\n",
      "kitchen_area           0.519869\n",
      "rooms                  0.363343\n",
      "ceiling_height         0.263640\n",
      "ponds_around3000       0.159996\n",
      "parks_around3000       0.151058\n",
      "total_images           0.104473\n",
      "days_exposition        0.081146\n",
      "floor                  0.026576\n",
      "balcony                0.008559\n",
      "month                  0.002779\n",
      "living_total_ratio     0.002501\n",
      "weekday                0.001550\n",
      "floors_total          -0.006984\n",
      "open_plan             -0.008802\n",
      "parks_nearest         -0.016414\n",
      "studio                -0.025362\n",
      "airports_nearest      -0.026239\n",
      "year                  -0.043089\n",
      "ponds_nearest         -0.084809\n",
      "kitchen_total_ratio   -0.089303\n",
      "cityCenters_nearest   -0.206747\n",
      "Name: last_price, dtype: float64\n",
      "\n",
      "\n",
      "  floor_category  median_price    mean_price\n",
      "0         первый     3900000.0  4.803560e+06\n",
      "1      последний     4300000.0  7.361025e+06\n",
      "2         другой     4850000.0  6.675444e+06\n",
      "\n",
      "   weekday  median_price    mean_price\n",
      "0        6     4550000.0  6.246180e+06\n",
      "1        5     4555000.0  6.976804e+06\n",
      "2        4     4585000.0  6.372131e+06\n",
      "3        0     4650000.0  6.511613e+06\n",
      "4        3     4650000.0  6.708663e+06\n",
      "5        2     4700000.0  6.627970e+06\n",
      "6        1     4730000.0  6.394233e+06\n",
      "\n",
      "    month  median_price    mean_price\n",
      "0       6     4400000.0  6.310269e+06\n",
      "1       5     4515000.0  6.600435e+06\n",
      "2       8     4570000.0  6.350233e+06\n",
      "3      10     4570000.0  6.235013e+06\n",
      "4       1     4600000.0  6.668233e+06\n",
      "5       2     4650000.0  6.468500e+06\n",
      "6       3     4650000.0  6.359275e+06\n",
      "7       7     4650000.0  6.649337e+06\n",
      "8       9     4700000.0  6.825470e+06\n",
      "9      11     4700000.0  6.461363e+06\n",
      "10     12     4700000.0  7.011731e+06\n",
      "11      4     4800000.0  6.737198e+06\n",
      "\n",
      "   year  median_price    mean_price\n",
      "0  2017     4500000.0  6.585729e+06\n",
      "1  2016     4550000.0  6.827912e+06\n",
      "2  2018     4550000.0  5.950966e+06\n",
      "3  2019     5050000.0  6.782388e+06\n",
      "4  2015     5350000.0  8.572833e+06\n",
      "5  2014     7700000.0  1.208714e+07\n",
      "\n",
      "       locality_name  count\n",
      "0    санкт-петербург  15721\n",
      "1     поселок мурино    556\n",
      "2     поселок шушары    440\n",
      "3         всеволожск    398\n",
      "4             пушкин    369\n",
      "5            колпино    338\n",
      "6  поселок парголово    327\n",
      "7            гатчина    307\n",
      "8    деревня кудрово    299\n",
      "9             выборг    237\n",
      "\n",
      "\n",
      "10 населенных пунктов с самым большим кол-ом объявлений:\n",
      "       locality_name  mean_m2_price\n",
      "0    санкт-петербург  114849.008794\n",
      "1             пушкин  103125.819291\n",
      "2    деревня кудрово   92473.547576\n",
      "3  поселок парголово   90175.913458\n",
      "4     поселок мурино   85681.762601\n",
      "5     поселок шушары   78677.364217\n",
      "6            колпино   75424.579098\n",
      "7            гатчина   68746.146763\n",
      "8         всеволожск   68654.473986\n",
      "9             выборг   58141.909153\n",
      "Среди 10 населенных пунктов с самым большим кол-вом объявлений самое дорогое жилье в: санкт-петербург\n",
      "а самое дешевое в: выборг\n"
     ]
    },
    {
     "data": {
      "image/png": "[encoded data removed]",
      "text/plain": [
       "<Figure size 432x288 with 1 Axes>"
      ]
     },
     "metadata": {
      "needs_background": "light"
     },
     "output_type": "display_data"
    },
    {
     "name": "stdout",
     "output_type": "stream",
     "text": [
      "\n"
     ]
    },
    {
     "data": {
      "image/png": "[encoded data removed]",
      "text/plain": [
       "<Figure size 720x360 with 1 Axes>"
      ]
     },
     "metadata": {
      "needs_background": "light"
     },
     "output_type": "display_data"
    },
    {
     "name": "stdout",
     "output_type": "stream",
     "text": [
      "Минимальное значение total_area 12.0\n",
      "Максимальное значение total_area 631.2\n"
     ]
    },
    {
     "data": {
      "image/png": "[encoded data removed]",
      "text/plain": [
       "<Figure size 720x360 with 1 Axes>"
      ]
     },
     "metadata": {
      "needs_background": "light"
     },
     "output_type": "display_data"
    },
    {
     "name": "stdout",
     "output_type": "stream",
     "text": [
      "Минимальное значение last_price 1600000.0\n",
      "Максимальное значение last_price 763000000.0\n"
     ]
    },
    {
     "data": {
      "image/png": "[encoded data removed]",
      "text/plain": [
       "<Figure size 720x360 with 1 Axes>"
      ]
     },
     "metadata": {
      "needs_background": "light"
     },
     "output_type": "display_data"
    },
    {
     "name": "stdout",
     "output_type": "stream",
     "text": [
      "Минимальное значение rooms 0\n",
      "Максимальное значение rooms 19\n"
     ]
    },
    {
     "data": {
      "image/png": "[encoded data removed]",
      "text/plain": [
       "<Figure size 720x360 with 1 Axes>"
      ]
     },
     "metadata": {
      "needs_background": "light"
     },
     "output_type": "display_data"
    },
    {
     "name": "stdout",
     "output_type": "stream",
     "text": [
      "Минимальное значение ceiling_height 2.4\n",
      "Максимальное значение ceiling_height 4.45\n",
      "\n",
      "\n",
      "Посмотрим коэф-ты Пирсона для центра Санкт-Петербурга:\n",
      "\n",
      "Кэф-т корреляции между ценой и числом комнат: 0.3148736324503905\n",
      "Кэф-т корреляции между ценой и этажом: 0.10859658165008752\n",
      "Кэф-т корреляции между ценой и удаленностью от центра: -0.04218576841424189\n",
      "\n",
      "Посмотрим коэф-ты Пирсона для всего Санкт-Петербурга:\n",
      "\n",
      "Кэф-т корреляции между ценой и числом комнат: 0.37237533826763347\n",
      "Кэф-т корреляции между ценой и этажом: -0.0008379427208810821\n",
      "Кэф-т корреляции между ценой и удаленностью от центра: -0.2595074646319885\n",
      "\n"
     ]
    }
   ],
   "source": [
    "#1\n",
    "#Изучите следующие параметры: площадь, цена, число комнат, высота потолков. Постройте гистограммы для каждого параметра.\n",
    "def hist4(data):\n",
    "    data.hist('total_area', bins=30, figsize=(10,5),range=(0,250))\n",
    "    plt.show()\n",
    "    print('Минимальное значение total_area', data['total_area'].min())\n",
    "    print('Максимальное значение total_area', data['total_area'].max())\n",
    "    \n",
    "    data.hist('last_price', bins=25, figsize=(10,5), range=(0,30000000))\n",
    "    plt.show()\n",
    "    print('Минимальное значение last_price', data['last_price'].min())\n",
    "    print('Максимальное значение last_price', data['last_price'].max())\n",
    "\n",
    "    data.hist('rooms', bins=10, figsize=(10,5), range=(0,10))\n",
    "    plt.show()\n",
    "    print('Минимальное значение rooms', data['rooms'].min())\n",
    "    print('Максимальное значение rooms', data['rooms'].max())\n",
    "    \n",
    "    data.hist('ceiling_height', bins=5, figsize=(10,5), range=(2,4))\n",
    "    plt.show()\n",
    "    print('Минимальное значение ceiling_height', data['ceiling_height'].min())\n",
    "    print('Максимальное значение ceiling_height', data['ceiling_height'].max())\n",
    "    print()\n",
    "\n",
    "hist4(df)\n",
    "\n",
    "#2\n",
    "#Изучите время продажи квартиры. Постройте гистограмму. Посчитайте среднее и медиану. \n",
    "#Опишите, сколько обычно занимает продажа. Когда можно считать, что продажи прошли очень быстро, а когда необычно долго?\n",
    "df.hist('days_exposition', bins=70, range=(0, 800))\n",
    "plt.show()\n",
    "\n",
    "print('Минимльное время продажи квартиры:', df['days_exposition'].min())\n",
    "print('Максимальное время продажи квартиры:', df['days_exposition'].max())\n",
    "print('Среднее время продажи квартиры:', df['days_exposition'].mean())\n",
    "print('Медианное время продажи квартиры:', df['days_exposition'].median())\n",
    "print('За первую неделю продаётся квартир: {:.2%}'.format(len(df.query('days_exposition<=7'))/len(df)))\n",
    "plt.show()\n",
    "\n",
    "#3\n",
    "#Уберите редкие и выбивающиеся значения. Опишите, какие особенности обнаружили.\n",
    "\n",
    "\n",
    "#4\n",
    "#Какие факторы больше всего влияют на стоимость квартиры? \n",
    "#Изучите, зависит ли цена от квадратного метра, числа комнат, удалённости от центра. \n",
    "#Изучите зависимость цены от того, на каком этаже расположена квартира: первом, последнем или другом. \n",
    "#Также изучите зависимость от даты размещения: дня недели, месяца и года.\n",
    "print()\n",
    "print('Посмотрим коэф-ты корреляции с ценой:')\n",
    "corr_df=df.corr()\n",
    "print(corr_df.loc[:, 'last_price'].sort_values(ascending=False))\n",
    "print()\n",
    "\n",
    "def pivot_func(column):\n",
    "    df_pivot=df.pivot_table(index=column, values='last_price', aggfunc=['median', 'mean']).reset_index()\n",
    "    df_pivot.columns=[column, 'median_price', 'mean_price']\n",
    "    df_pivot=df_pivot.sort_values(by='median_price').reset_index(drop=True)\n",
    "    print()\n",
    "    print(df_pivot)\n",
    "\n",
    "pivot_func('floor_category')\n",
    "pivot_func('weekday')\n",
    "pivot_func('month')\n",
    "pivot_func('year')\n",
    "\n",
    "\n",
    "#5\n",
    "#Выберите 10 населённых пунктов с наибольшим числом объявлений. Посчитайте среднюю цену квадратного метра \n",
    "#в этих населённых пунктах. Выделите населённые пункты с самой высокой и низкой стоимостью жилья. \n",
    "#Эти данные можно найти по имени в столбце 'locality_name'.\n",
    "print()\n",
    "ten_most_pop=df.groupby('locality_name').agg({'total_images': ['count']}).reset_index()\n",
    "ten_most_pop.columns=['locality_name', 'count']\n",
    "ten_most_pop=ten_most_pop.sort_values(by='count', ascending=False).reset_index(drop=True).head(10)\n",
    "print(ten_most_pop)\n",
    "print()\n",
    "\n",
    "a=pd.Series(ten_most_pop['locality_name'])\n",
    "df_10pop=df.query('locality_name in @a')\n",
    "\n",
    "df_pivot_10pop=df_10pop.pivot_table(index='locality_name', values='m2_price', aggfunc='mean').reset_index()\n",
    "df_pivot_10pop.columns=['locality_name', 'mean_m2_price']\n",
    "df_pivot_10pop=df_pivot_10pop.sort_values(by='mean_m2_price', ascending=False).reset_index(drop=True)\n",
    "print()\n",
    "print('10 населенных пунктов с самым большим кол-ом объявлений:')\n",
    "print(df_pivot_10pop)\n",
    "print('Среди 10 населенных пунктов с самым большим кол-вом объявлений самое дорогое жилье в: {}'.format(df_pivot_10pop.loc[0, 'locality_name']))\n",
    "print('а самое дешевое в: {}'.format(df_pivot_10pop.loc[9, 'locality_name']))\n",
    "\n",
    "#6\n",
    "#Изучите предложения квартир: для каждой квартиры есть информация о расстоянии до центра.\n",
    "#Выделите квартиры в Санкт-Петербурге ('locality_name'). Ваша задача — выяснить, какая область входит в центр. \n",
    "#Создайте столбец с расстоянием до центра в километрах: округлите до целых значений. \n",
    "#После этого посчитайте среднюю цену для каждого километра. Постройте график: он должен показывать, \n",
    "#как цена зависит от удалённости от центра. Определите границу, где график сильно меняется — это и будет центральная зона.\n",
    "df_spb=df.query('locality_name==\"санкт-петербург\"').reset_index(drop=True)\n",
    "df_spb['cityCenters_km']=df_spb['cityCenters_nearest']/1000\n",
    "df_spb['cityCenters_km']=df_spb['cityCenters_km'].round(0)\n",
    "\n",
    "km_price=df_spb.groupby('cityCenters_km').agg({'last_price': ['mean']}).reset_index()\n",
    "km_price.columns=['cityCenters_km', 'mean_price']\n",
    "\n",
    "km_price.plot(x='cityCenters_km', y='mean_price', title='цена - удаленность от центра', style='o-',grid=True)#, figsize=(10,10))\n",
    "plt.show()\n",
    "print()\n",
    "\n",
    "#7\n",
    "#Выделите сегмент квартир в центре. Проанализируйте эту территорию и изучите следующие параметры: площадь, цена, число комнат, \n",
    "#высота потолков. Также выделите факторы, которые влияют на стоимость квартиры (число комнат, этаж, удалённость от центра, \n",
    "#дата размещения объявления). Сделайте выводы. Отличаются ли они от общих выводов по всему городу?\n",
    "df_centre=df_spb.query('cityCenters_km<=7')\n",
    "\n",
    "hist4(df_centre)\n",
    "\n",
    "def corr_centre_spb(data):\n",
    "    print()\n",
    "    print('Кэф-т корреляции между ценой и числом комнат:', data['last_price'].corr(data['rooms']))\n",
    "    print('Кэф-т корреляции между ценой и этажом:', data['last_price'].corr(data['floor']))\n",
    "    print('Кэф-т корреляции между ценой и удаленностью от центра:', data['last_price'].corr(data['cityCenters_nearest']))\n",
    "    print()\n",
    "\n",
    "print()\n",
    "print('Посмотрим коэф-ты Пирсона для центра Санкт-Петербурга:')\n",
    "corr_centre_spb(df_centre)\n",
    "\n",
    "\n",
    "print('Посмотрим коэф-ты Пирсона для всего Санкт-Петербурга:')\n",
    "corr_centre_spb(df_spb)"
   ]
  },
  {
   "cell_type": "markdown",
   "metadata": {},
   "source": [
    "**Вывод**  \n",
    "\n",
    "1.\n",
    "Из гистограмм видно:  \n",
    "площадь большинства квартир лежит в пределах от 25 до 100 м2, а квартиры площадью больше 150 кв.м. встречаются очень  редко;  \n",
    "цена большинства квартир 1-9 млн;  \n",
    "кол-во комнат большинства квартир составяет 1, 2 или 3 комнаты;  \n",
    "чаще всего высота потолков в квартирах составляет 2.4-3 м\n",
    "\n",
    "2.\n",
    "Половина квартир продается в течени 3-х месяцев. Около 4-х процентов продается уже в первую неделю публикации, это можно назвать очень быстрой продажей. Продажи дольше 300 дней можно назвать небычно долгими\n",
    "\n",
    "3.\n",
    "Я уже удалила выбивающиеся значения в столбце ceiling_height. В других столбах тоже есть выдающиеся значения, но я не хочу их удалять, так как они выглядят вполне реалистично.\n",
    "\n",
    "4.\n",
    "Больше всего на стоимость квартиры влиют: площадь и кол-во комнат. Чуть меньше - высота потолка, близость к центру города, а также наличие по близости парков и водоемов.  \n",
    "Вычесленные коэффициенты корреляции говорят о седующем:  \n",
    "Цена квартиры довольно сильно зависит от кол-ва квадратных метров (k=0.65) и от кол-ва комнат (k=0.36). Чем больше кв.метров или комнат, тем выше цена.  \n",
    "Цена обратно пропорциональна удаленности от центра (k=-0.2). Чем дальше от центра расположена квартира, тем она дешевле.\n",
    "Эти выводы очевидны, а также мы их подтвердили расчетами.  \n",
    "Самые дешевые вартиры расположены на 1-м этаже, чуть дороже - на последнем. Все остальные этажи оцениваются дороже.\n",
    "День недели или месяц публикации объявления практически никак не влияют на цену квартиры.  \n",
    "В 2015 году средняя цена на квартиру подешевела на примерно 30%. Далее до 2017 года средняя цена продолжала снижаться, но уже не так стремительно. В 2018-2019 гг цена немного стала расти.\n",
    "\n",
    "5.\n",
    "10 населённых пунктов с наибольшим числом объявлений: санкт-петербург, поселок мурино, поселок шушары, всеволожск, пушкин, колпино, поселок парголово, гатчина, деревня кудрово, выборг. \n",
    "\n",
    "6.\n",
    "Построив график зависимости цены от удаленности от центра я заметила, что примерно после значения 7 км график начинает \"сглаживаться\", то есть цена перестает так сильно зависеть от удалености. Определю 7 км как границу центральной зоны.\n",
    "\n",
    "7.\n",
    "Из гистограмм видно, что в центра Санкт-Петербурга:  \n",
    "-площадь большинства квартир лежит в пределах от 25 до 150 м2  \n",
    "-цена большинства квартир 4-15 млн  \n",
    "-кол-во комнат большинства квартир составяет 1, 2 или 3 комнаты  \n",
    "-чаще всего высота потолков в квартирах составляет 2.4-3.5 м  \n",
    "\n",
    "В центре Санкт-Петербурга цена квартиры сильно зависит от кол-ва комнат и немного зависит от этажа. В пределах обозначенной мной центральной зоны в 7 км цена от местоположения не зависит.  \n",
    "В общем по Санкт-Петербургу цена также зависит от кол-ва комнат, однако совершенно не зависит от этажа. Удаленность от центра сильно влияет на цену квартиры в городе.\n",
    "\n",
    "\n"
   ]
  },
  {
   "cell_type": "markdown",
   "metadata": {},
   "source": [
    "### Общий вывод\n",
    "\n",
    "Чаще всего продаются квартиры площадью 25-100 кв.м., с высотой потолков 2.4-3м. Это 1,2 и реже 3 комнатные. Стоимость таких квартир ориентировочно 1-9 млн. В среднем они продаются в течении года.\n",
    "\n",
    "В центре Санкт-Петербурга цена уже выше (4-15 млн.). Чаще встречаются 2-3 комнатные, и лишь потом 1 и 4-х комн. квартиры. \n",
    "\n",
    "На стоимость квартир больше всего влияют площадь и кол-во комнат. Последние несколько лет (2018-2019) стоимость квартир немного растет. \n",
    "\n",
    "Больше всего объявлений разещено о квартирах, расположенных в Санкт-Петербурге, средняя цена таких квартир 114849 за кв.м.\n",
    "\n"
   ]
  }
 ],
 "metadata": {
  "kernelspec": {
   "display_name": "Python 3",
   "language": "python",
   "name": "python3"
  },
  "language_info": {
   "codemirror_mode": {
    "name": "ipython",
    "version": 3
   },
   "file_extension": ".py",
   "mimetype": "text/x-python",
   "name": "python",
   "nbconvert_exporter": "python",
   "pygments_lexer": "ipython3",
   "version": "3.8.8"
  },
  "toc": {
   "base_numbering": 1,
   "nav_menu": {},
   "number_sections": true,
   "sideBar": true,
   "skip_h1_title": true,
   "title_cell": "Содержание",
   "title_sidebar": "Contents",
   "toc_cell": true,
   "toc_position": {},
   "toc_section_display": true,
   "toc_window_display": true
  }
 },
 "nbformat": 4,
 "nbformat_minor": 2
}
