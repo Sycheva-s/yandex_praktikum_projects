{
 "cells": [
  {
   "cell_type": "markdown",
   "metadata": {
    "toc": true
   },
   "source": [
    "<h1>Содержание<span class=\"tocSkip\"></span></h1>\n",
    "<div class=\"toc\"><ul class=\"toc-item\"><li><span><a href=\"#Обзор-данных\" data-toc-modified-id=\"Обзор-данных-1\"><span class=\"toc-item-num\">1&nbsp;&nbsp;</span>Обзор данных</a></span></li><li><span><a href=\"#Обучение-и-проверка-модели\" data-toc-modified-id=\"Обучение-и-проверка-модели-2\"><span class=\"toc-item-num\">2&nbsp;&nbsp;</span>Обучение и проверка модели</a></span></li><li><span><a href=\"#Подготовка-к-расчёту-прибыли\" data-toc-modified-id=\"Подготовка-к-расчёту-прибыли-3\"><span class=\"toc-item-num\">3&nbsp;&nbsp;</span>Подготовка к расчёту прибыли</a></span></li><li><span><a href=\"#Расчёт-прибыли-и-рисков\" data-toc-modified-id=\"Расчёт-прибыли-и-рисков-4\"><span class=\"toc-item-num\">4&nbsp;&nbsp;</span>Расчёт прибыли и рисков</a></span></li><li><span><a href=\"#Вывод\" data-toc-modified-id=\"Вывод-5\"><span class=\"toc-item-num\">5&nbsp;&nbsp;</span>Вывод</a></span></li></ul></div>"
   ]
  },
  {
   "cell_type": "markdown",
   "metadata": {},
   "source": [
    "**Описание проекта**  \n",
    "Вы работаете в добывающей компании «ГлавРосГосНефть». Нужно решить, где бурить новую скважину.\n",
    "\n",
    "Вам предоставлены пробы нефти в трёх регионах: в каждом 10 000 месторождений, где измерили качество нефти и объём её запасов. Постройте модель машинного обучения, которая поможет определить регион, где добыча принесёт наибольшую прибыль. Проанализируйте возможную прибыль и риски техникой *Bootstrap.*\n",
    "\n",
    "Шаги для выбора локации:\n",
    "\n",
    "- В избранном регионе ищут месторождения, для каждого определяют значения признаков;\n",
    "- Строят модель и оценивают объём запасов;\n",
    "- Выбирают месторождения с самым высокими оценками значений. Количество месторождений зависит от бюджета компании и стоимости разработки одной скважины;\n",
    "- Прибыль равна суммарной прибыли отобранных месторождений."
   ]
  },
  {
   "cell_type": "markdown",
   "metadata": {},
   "source": [
    "*Описание данных*    \n",
    "Данные геологоразведки трёх регионов находятся в файлах:  \n",
    "geo_data_0.csv.  \n",
    "geo_data_1.csv.     \n",
    "geo_data_2.csv.  \n",
    "  \n",
    "id — уникальный идентификатор скважины;  \n",
    "f0, f1, f2 — три признака точек (неважно, что они означают, но сами признаки значимы);  \n",
    "product — объём запасов в скважине (тыс. баррелей).  \n",
    "\n",
    "*Условия задачи:*    \n",
    "- Для обучения модели подходит только линейная регрессия (остальные — недостаточно предсказуемые).  \n",
    "- При разведке региона исследуют 500 точек, из которых выбирают 200 лучших для расчёта прибыли.  \n",
    "- Бюджет на разработку скважин в регионе — 10 млрд рублей.  \n",
    "- Один баррель сырья приносит 450 рублей дохода. Доход с каждой единицы продукта составляет 450 тыс. рублей, поскольку объём указан в тысячах баррелей.  \n",
    "- После оценки рисков нужно оставить лишь те регионы, в которых вероятность убытков меньше 2.5%. Среди них выбирают регион с наибольшей средней прибылью.  \n",
    "- Данные синтетические: детали контрактов и характеристики месторождений не разглашаются."
   ]
  },
  {
   "cell_type": "markdown",
   "metadata": {},
   "source": [
    "## Обзор данных"
   ]
  },
  {
   "cell_type": "code",
   "execution_count": 24,
   "metadata": {},
   "outputs": [],
   "source": [
    "import pandas as pd\n",
    "import numpy as np\n",
    "import random\n",
    "\n",
    "from sklearn.model_selection import train_test_split\n",
    "\n",
    "from sklearn.linear_model import LinearRegression\n",
    "\n",
    "from scipy import stats as st\n",
    "from sklearn.metrics import mean_squared_error"
   ]
  },
  {
   "cell_type": "code",
   "execution_count": 25,
   "metadata": {},
   "outputs": [
    {
     "data": {
      "text/html": [
       "<div>\n",
       "<style scoped>\n",
       "    .dataframe tbody tr th:only-of-type {\n",
       "        vertical-align: middle;\n",
       "    }\n",
       "\n",
       "    .dataframe tbody tr th {\n",
       "        vertical-align: top;\n",
       "    }\n",
       "\n",
       "    .dataframe thead th {\n",
       "        text-align: right;\n",
       "    }\n",
       "</style>\n",
       "<table border=\"1\" class=\"dataframe\">\n",
       "  <thead>\n",
       "    <tr style=\"text-align: right;\">\n",
       "      <th></th>\n",
       "      <th>id</th>\n",
       "      <th>f0</th>\n",
       "      <th>f1</th>\n",
       "      <th>f2</th>\n",
       "      <th>product</th>\n",
       "    </tr>\n",
       "  </thead>\n",
       "  <tbody>\n",
       "    <tr>\n",
       "      <td>0</td>\n",
       "      <td>txEyH</td>\n",
       "      <td>0.705745</td>\n",
       "      <td>-0.497823</td>\n",
       "      <td>1.221170</td>\n",
       "      <td>105.280062</td>\n",
       "    </tr>\n",
       "    <tr>\n",
       "      <td>1</td>\n",
       "      <td>2acmU</td>\n",
       "      <td>1.334711</td>\n",
       "      <td>-0.340164</td>\n",
       "      <td>4.365080</td>\n",
       "      <td>73.037750</td>\n",
       "    </tr>\n",
       "    <tr>\n",
       "      <td>2</td>\n",
       "      <td>409Wp</td>\n",
       "      <td>1.022732</td>\n",
       "      <td>0.151990</td>\n",
       "      <td>1.419926</td>\n",
       "      <td>85.265647</td>\n",
       "    </tr>\n",
       "    <tr>\n",
       "      <td>3</td>\n",
       "      <td>iJLyR</td>\n",
       "      <td>-0.032172</td>\n",
       "      <td>0.139033</td>\n",
       "      <td>2.978566</td>\n",
       "      <td>168.620776</td>\n",
       "    </tr>\n",
       "    <tr>\n",
       "      <td>4</td>\n",
       "      <td>Xdl7t</td>\n",
       "      <td>1.988431</td>\n",
       "      <td>0.155413</td>\n",
       "      <td>4.751769</td>\n",
       "      <td>154.036647</td>\n",
       "    </tr>\n",
       "  </tbody>\n",
       "</table>\n",
       "</div>"
      ],
      "text/plain": [
       "      id        f0        f1        f2     product\n",
       "0  txEyH  0.705745 -0.497823  1.221170  105.280062\n",
       "1  2acmU  1.334711 -0.340164  4.365080   73.037750\n",
       "2  409Wp  1.022732  0.151990  1.419926   85.265647\n",
       "3  iJLyR -0.032172  0.139033  2.978566  168.620776\n",
       "4  Xdl7t  1.988431  0.155413  4.751769  154.036647"
      ]
     },
     "metadata": {},
     "output_type": "display_data"
    },
    {
     "name": "stdout",
     "output_type": "stream",
     "text": [
      "<class 'pandas.core.frame.DataFrame'>\n",
      "RangeIndex: 100000 entries, 0 to 99999\n",
      "Data columns (total 5 columns):\n",
      "id         100000 non-null object\n",
      "f0         100000 non-null float64\n",
      "f1         100000 non-null float64\n",
      "f2         100000 non-null float64\n",
      "product    100000 non-null float64\n",
      "dtypes: float64(4), object(1)\n",
      "memory usage: 3.8+ MB\n"
     ]
    }
   ],
   "source": [
    "#geo_data_0 = pd.read_csv(r'C:\\Users\\Susanna\\Downloads\\geo_data_0.csv')\n",
    "geo_data_0 = pd.read_csv(r'/datasets/geo_data_0.csv')\n",
    "display(geo_data_0.head())\n",
    "geo_data_0.info()"
   ]
  },
  {
   "cell_type": "code",
   "execution_count": 26,
   "metadata": {
    "scrolled": true
   },
   "outputs": [
    {
     "data": {
      "text/html": [
       "<div>\n",
       "<style scoped>\n",
       "    .dataframe tbody tr th:only-of-type {\n",
       "        vertical-align: middle;\n",
       "    }\n",
       "\n",
       "    .dataframe tbody tr th {\n",
       "        vertical-align: top;\n",
       "    }\n",
       "\n",
       "    .dataframe thead th {\n",
       "        text-align: right;\n",
       "    }\n",
       "</style>\n",
       "<table border=\"1\" class=\"dataframe\">\n",
       "  <thead>\n",
       "    <tr style=\"text-align: right;\">\n",
       "      <th></th>\n",
       "      <th>id</th>\n",
       "      <th>f0</th>\n",
       "      <th>f1</th>\n",
       "      <th>f2</th>\n",
       "      <th>product</th>\n",
       "    </tr>\n",
       "  </thead>\n",
       "  <tbody>\n",
       "    <tr>\n",
       "      <td>0</td>\n",
       "      <td>kBEdx</td>\n",
       "      <td>-15.001348</td>\n",
       "      <td>-8.276000</td>\n",
       "      <td>-0.005876</td>\n",
       "      <td>3.179103</td>\n",
       "    </tr>\n",
       "    <tr>\n",
       "      <td>1</td>\n",
       "      <td>62mP7</td>\n",
       "      <td>14.272088</td>\n",
       "      <td>-3.475083</td>\n",
       "      <td>0.999183</td>\n",
       "      <td>26.953261</td>\n",
       "    </tr>\n",
       "    <tr>\n",
       "      <td>2</td>\n",
       "      <td>vyE1P</td>\n",
       "      <td>6.263187</td>\n",
       "      <td>-5.948386</td>\n",
       "      <td>5.001160</td>\n",
       "      <td>134.766305</td>\n",
       "    </tr>\n",
       "    <tr>\n",
       "      <td>3</td>\n",
       "      <td>KcrkZ</td>\n",
       "      <td>-13.081196</td>\n",
       "      <td>-11.506057</td>\n",
       "      <td>4.999415</td>\n",
       "      <td>137.945408</td>\n",
       "    </tr>\n",
       "    <tr>\n",
       "      <td>4</td>\n",
       "      <td>AHL4O</td>\n",
       "      <td>12.702195</td>\n",
       "      <td>-8.147433</td>\n",
       "      <td>5.004363</td>\n",
       "      <td>134.766305</td>\n",
       "    </tr>\n",
       "  </tbody>\n",
       "</table>\n",
       "</div>"
      ],
      "text/plain": [
       "      id         f0         f1        f2     product\n",
       "0  kBEdx -15.001348  -8.276000 -0.005876    3.179103\n",
       "1  62mP7  14.272088  -3.475083  0.999183   26.953261\n",
       "2  vyE1P   6.263187  -5.948386  5.001160  134.766305\n",
       "3  KcrkZ -13.081196 -11.506057  4.999415  137.945408\n",
       "4  AHL4O  12.702195  -8.147433  5.004363  134.766305"
      ]
     },
     "metadata": {},
     "output_type": "display_data"
    },
    {
     "name": "stdout",
     "output_type": "stream",
     "text": [
      "<class 'pandas.core.frame.DataFrame'>\n",
      "RangeIndex: 100000 entries, 0 to 99999\n",
      "Data columns (total 5 columns):\n",
      "id         100000 non-null object\n",
      "f0         100000 non-null float64\n",
      "f1         100000 non-null float64\n",
      "f2         100000 non-null float64\n",
      "product    100000 non-null float64\n",
      "dtypes: float64(4), object(1)\n",
      "memory usage: 3.8+ MB\n"
     ]
    }
   ],
   "source": [
    "#geo_data_1 = pd.read_csv(r'C:\\Users\\Susanna\\Downloads\\geo_data_1.csv')\n",
    "geo_data_1 = pd.read_csv(r'/datasets/geo_data_1.csv')\n",
    "display(geo_data_1.head())\n",
    "geo_data_1.info()"
   ]
  },
  {
   "cell_type": "code",
   "execution_count": 27,
   "metadata": {
    "scrolled": false
   },
   "outputs": [
    {
     "data": {
      "text/html": [
       "<div>\n",
       "<style scoped>\n",
       "    .dataframe tbody tr th:only-of-type {\n",
       "        vertical-align: middle;\n",
       "    }\n",
       "\n",
       "    .dataframe tbody tr th {\n",
       "        vertical-align: top;\n",
       "    }\n",
       "\n",
       "    .dataframe thead th {\n",
       "        text-align: right;\n",
       "    }\n",
       "</style>\n",
       "<table border=\"1\" class=\"dataframe\">\n",
       "  <thead>\n",
       "    <tr style=\"text-align: right;\">\n",
       "      <th></th>\n",
       "      <th>id</th>\n",
       "      <th>f0</th>\n",
       "      <th>f1</th>\n",
       "      <th>f2</th>\n",
       "      <th>product</th>\n",
       "    </tr>\n",
       "  </thead>\n",
       "  <tbody>\n",
       "    <tr>\n",
       "      <td>0</td>\n",
       "      <td>fwXo0</td>\n",
       "      <td>-1.146987</td>\n",
       "      <td>0.963328</td>\n",
       "      <td>-0.828965</td>\n",
       "      <td>27.758673</td>\n",
       "    </tr>\n",
       "    <tr>\n",
       "      <td>1</td>\n",
       "      <td>WJtFt</td>\n",
       "      <td>0.262778</td>\n",
       "      <td>0.269839</td>\n",
       "      <td>-2.530187</td>\n",
       "      <td>56.069697</td>\n",
       "    </tr>\n",
       "    <tr>\n",
       "      <td>2</td>\n",
       "      <td>ovLUW</td>\n",
       "      <td>0.194587</td>\n",
       "      <td>0.289035</td>\n",
       "      <td>-5.586433</td>\n",
       "      <td>62.871910</td>\n",
       "    </tr>\n",
       "    <tr>\n",
       "      <td>3</td>\n",
       "      <td>q6cA6</td>\n",
       "      <td>2.236060</td>\n",
       "      <td>-0.553760</td>\n",
       "      <td>0.930038</td>\n",
       "      <td>114.572842</td>\n",
       "    </tr>\n",
       "    <tr>\n",
       "      <td>4</td>\n",
       "      <td>WPMUX</td>\n",
       "      <td>-0.515993</td>\n",
       "      <td>1.716266</td>\n",
       "      <td>5.899011</td>\n",
       "      <td>149.600746</td>\n",
       "    </tr>\n",
       "  </tbody>\n",
       "</table>\n",
       "</div>"
      ],
      "text/plain": [
       "      id        f0        f1        f2     product\n",
       "0  fwXo0 -1.146987  0.963328 -0.828965   27.758673\n",
       "1  WJtFt  0.262778  0.269839 -2.530187   56.069697\n",
       "2  ovLUW  0.194587  0.289035 -5.586433   62.871910\n",
       "3  q6cA6  2.236060 -0.553760  0.930038  114.572842\n",
       "4  WPMUX -0.515993  1.716266  5.899011  149.600746"
      ]
     },
     "metadata": {},
     "output_type": "display_data"
    },
    {
     "name": "stdout",
     "output_type": "stream",
     "text": [
      "<class 'pandas.core.frame.DataFrame'>\n",
      "RangeIndex: 100000 entries, 0 to 99999\n",
      "Data columns (total 5 columns):\n",
      "id         100000 non-null object\n",
      "f0         100000 non-null float64\n",
      "f1         100000 non-null float64\n",
      "f2         100000 non-null float64\n",
      "product    100000 non-null float64\n",
      "dtypes: float64(4), object(1)\n",
      "memory usage: 3.8+ MB\n"
     ]
    }
   ],
   "source": [
    "#geo_data_2 = pd.read_csv(r'C:\\Users\\Susanna\\Downloads\\geo_data_2.csv')\n",
    "geo_data_2 = pd.read_csv(r'/datasets/geo_data_2.csv')\n",
    "display(geo_data_2.head())\n",
    "geo_data_2.info()"
   ]
  },
  {
   "cell_type": "markdown",
   "metadata": {},
   "source": [
    "**Вывод**    \n",
    "В трёх исходных файлах содержатся данные геологоразведки трёх регионов. В каждом 10 000 строк и 5 столбцов. Пропусков нет. Для построения моделей линейной регресси не нужны данные об уникальных идентификаторах скважин (id), удалю их. "
   ]
  },
  {
   "cell_type": "markdown",
   "metadata": {},
   "source": [
    "## Обучение и проверка модели"
   ]
  },
  {
   "cell_type": "code",
   "execution_count": 28,
   "metadata": {},
   "outputs": [],
   "source": [
    "geo_data_0=geo_data_0.drop('id', axis=1)\n",
    "geo_data_1=geo_data_1.drop('id', axis=1)\n",
    "geo_data_2=geo_data_2.drop('id', axis=1)"
   ]
  },
  {
   "cell_type": "code",
   "execution_count": 29,
   "metadata": {},
   "outputs": [],
   "source": [
    "target_predic=pd.DataFrame()\n",
    "def LinearReg(df, i):\n",
    "        \n",
    "    features=df.drop(['product'], axis=1)\n",
    "    target=df['product']\n",
    "\n",
    "    features_train, features_valid, target_train, target_valid = train_test_split(\n",
    "    features, target, test_size=0.25, random_state=12345)\n",
    "    \n",
    "    model = LinearRegression()\n",
    "    model.fit(features_train, target_train)\n",
    "    predictions_valid=model.predict(features_valid)\n",
    "         \n",
    "    mse = mean_squared_error(target_valid, predictions_valid)\n",
    "    rmse = mse ** 0.5\n",
    "    \n",
    "    print('Среднее предсказание:', predictions_valid.mean())\n",
    "    print('RMSE:', rmse)\n",
    "    \n",
    "    target_predic[i]=target_valid\n",
    "    target_predic[i+1]=predictions_valid"
   ]
  },
  {
   "cell_type": "code",
   "execution_count": 30,
   "metadata": {},
   "outputs": [
    {
     "name": "stdout",
     "output_type": "stream",
     "text": [
      "Среднее предсказание: 92.59256778438038\n",
      "RMSE: 37.5794217150813\n"
     ]
    }
   ],
   "source": [
    "LinearReg(geo_data_0, 0)"
   ]
  },
  {
   "cell_type": "code",
   "execution_count": 31,
   "metadata": {},
   "outputs": [
    {
     "name": "stdout",
     "output_type": "stream",
     "text": [
      "Среднее предсказание: 68.728546895446\n",
      "RMSE: 0.893099286775616\n"
     ]
    }
   ],
   "source": [
    "LinearReg(geo_data_1, 2)"
   ]
  },
  {
   "cell_type": "code",
   "execution_count": 32,
   "metadata": {},
   "outputs": [
    {
     "name": "stdout",
     "output_type": "stream",
     "text": [
      "Среднее предсказание: 94.96504596800489\n",
      "RMSE: 40.02970873393434\n"
     ]
    }
   ],
   "source": [
    "LinearReg(geo_data_2, 4)"
   ]
  },
  {
   "cell_type": "code",
   "execution_count": 33,
   "metadata": {
    "scrolled": false
   },
   "outputs": [
    {
     "data": {
      "text/html": [
       "<div>\n",
       "<style scoped>\n",
       "    .dataframe tbody tr th:only-of-type {\n",
       "        vertical-align: middle;\n",
       "    }\n",
       "\n",
       "    .dataframe tbody tr th {\n",
       "        vertical-align: top;\n",
       "    }\n",
       "\n",
       "    .dataframe thead th {\n",
       "        text-align: right;\n",
       "    }\n",
       "</style>\n",
       "<table border=\"1\" class=\"dataframe\">\n",
       "  <thead>\n",
       "    <tr style=\"text-align: right;\">\n",
       "      <th></th>\n",
       "      <th>geo_data_0_target</th>\n",
       "      <th>geo_data_0_predic</th>\n",
       "      <th>geo_data_1_target</th>\n",
       "      <th>geo_data_1_predic</th>\n",
       "      <th>geo_data_2_target</th>\n",
       "      <th>geo_data_2_predic</th>\n",
       "    </tr>\n",
       "  </thead>\n",
       "  <tbody>\n",
       "    <tr>\n",
       "      <td>71751</td>\n",
       "      <td>10.038645</td>\n",
       "      <td>95.894952</td>\n",
       "      <td>80.859783</td>\n",
       "      <td>82.663314</td>\n",
       "      <td>61.212375</td>\n",
       "      <td>93.599633</td>\n",
       "    </tr>\n",
       "    <tr>\n",
       "      <td>80493</td>\n",
       "      <td>114.551489</td>\n",
       "      <td>77.572583</td>\n",
       "      <td>53.906522</td>\n",
       "      <td>54.431786</td>\n",
       "      <td>41.850118</td>\n",
       "      <td>75.105159</td>\n",
       "    </tr>\n",
       "    <tr>\n",
       "      <td>2655</td>\n",
       "      <td>132.603635</td>\n",
       "      <td>77.892640</td>\n",
       "      <td>30.132364</td>\n",
       "      <td>29.748760</td>\n",
       "      <td>57.776581</td>\n",
       "      <td>90.066809</td>\n",
       "    </tr>\n",
       "    <tr>\n",
       "      <td>53233</td>\n",
       "      <td>169.072125</td>\n",
       "      <td>90.175134</td>\n",
       "      <td>53.906522</td>\n",
       "      <td>53.552133</td>\n",
       "      <td>100.053761</td>\n",
       "      <td>105.162375</td>\n",
       "    </tr>\n",
       "    <tr>\n",
       "      <td>91141</td>\n",
       "      <td>122.325180</td>\n",
       "      <td>70.510088</td>\n",
       "      <td>0.000000</td>\n",
       "      <td>1.243856</td>\n",
       "      <td>109.897122</td>\n",
       "      <td>115.303310</td>\n",
       "    </tr>\n",
       "  </tbody>\n",
       "</table>\n",
       "</div>"
      ],
      "text/plain": [
       "       geo_data_0_target  geo_data_0_predic  geo_data_1_target  \\\n",
       "71751          10.038645          95.894952          80.859783   \n",
       "80493         114.551489          77.572583          53.906522   \n",
       "2655          132.603635          77.892640          30.132364   \n",
       "53233         169.072125          90.175134          53.906522   \n",
       "91141         122.325180          70.510088           0.000000   \n",
       "\n",
       "       geo_data_1_predic  geo_data_2_target  geo_data_2_predic  \n",
       "71751          82.663314          61.212375          93.599633  \n",
       "80493          54.431786          41.850118          75.105159  \n",
       "2655           29.748760          57.776581          90.066809  \n",
       "53233          53.552133         100.053761         105.162375  \n",
       "91141           1.243856         109.897122         115.303310  "
      ]
     },
     "execution_count": 33,
     "metadata": {},
     "output_type": "execute_result"
    }
   ],
   "source": [
    "target_predic.columns=['geo_data_0_target', 'geo_data_0_predic', 'geo_data_1_target', 'geo_data_1_predic',\n",
    "                       'geo_data_2_target', 'geo_data_2_predic']\n",
    "target_predic.head()"
   ]
  },
  {
   "cell_type": "markdown",
   "metadata": {},
   "source": [
    "**Вывод**    \n",
    "Обучила и проверила модели для каждого региона:  \n",
    "В первом и третьем регионах средние запасы сильно больше, чем во втором. Но и значение RMSE у первого и третьего региона значительно больше. На данном этапе сложно говорить о том, в каком регионе выгоднее начинать бурение скважин.   \n",
    "Сохранила предсказания и правильные ответы на валидационной выборке в target_predic. "
   ]
  },
  {
   "cell_type": "markdown",
   "metadata": {},
   "source": [
    "## Подготовка к расчёту прибыли"
   ]
  },
  {
   "cell_type": "code",
   "execution_count": 34,
   "metadata": {},
   "outputs": [],
   "source": [
    "#Общий бюджет и доход с единицы продукта\n",
    "budget=10*10**9\n",
    "income=450*10**3"
   ]
  },
  {
   "cell_type": "code",
   "execution_count": 35,
   "metadata": {},
   "outputs": [
    {
     "data": {
      "text/plain": [
       "50000000.0"
      ]
     },
     "execution_count": 35,
     "metadata": {},
     "output_type": "execute_result"
    }
   ],
   "source": [
    "#Бюджет на 1 скжважину\n",
    "budget_1=budget/200\n",
    "budget_1"
   ]
  },
  {
   "cell_type": "code",
   "execution_count": 36,
   "metadata": {},
   "outputs": [
    {
     "data": {
      "text/plain": [
       "111.11111111111111"
      ]
     },
     "execution_count": 36,
     "metadata": {},
     "output_type": "execute_result"
    }
   ],
   "source": [
    "#Необходимое кол-во единиц продукта в одной скважине\n",
    "req=budget_1/income\n",
    "req"
   ]
  },
  {
   "cell_type": "code",
   "execution_count": 37,
   "metadata": {},
   "outputs": [],
   "source": [
    "#Кол-во выборок для бутсрэпа\n",
    "n=1000\n",
    "\n",
    "#Точки для исследования\n",
    "points=500"
   ]
  },
  {
   "cell_type": "markdown",
   "metadata": {},
   "source": [
    "**Вывод**    \n",
    "Для безубыточной разработки одной скважины в регионе средний запас топлива в каждой из 200 скважин должен быть не меньше 111.11 тыс. баррелей.  \n",
    "Во всех рех регионах средний объем запасов сырья меньше необходимого для безубыточности.  "
   ]
  },
  {
   "cell_type": "markdown",
   "metadata": {},
   "source": [
    "## Расчёт прибыли и рисков "
   ]
  },
  {
   "cell_type": "code",
   "execution_count": 38,
   "metadata": {},
   "outputs": [],
   "source": [
    "def revenue(target, predictions):\n",
    "    pred_sorted = predictions.sort_values(ascending=False)\n",
    "    selected = target[pred_sorted.index].head(200)\n",
    "    return income*selected.sum()-budget"
   ]
  },
  {
   "cell_type": "code",
   "execution_count": 39,
   "metadata": {},
   "outputs": [],
   "source": [
    "def risk_revenue(target, predictions):\n",
    "    state = np.random.RandomState(12345)\n",
    "    values = []\n",
    "    for i in range(n):\n",
    "        pred_subsample=predictions.sample(n=points, replace=True, random_state=state)\n",
    "        target_subsample=target[pred_subsample.index]\n",
    "        values.append(revenue(target_subsample, pred_subsample))\n",
    "\n",
    "    values = pd.Series(values)\n",
    "    mean = values.mean()\n",
    "    #confidence_interval = st.t.interval(0.95, len(values)-1,values.mean(), values.sem()) \n",
    "    confidence_interval = (values.quantile(0.025), values.quantile(0.975))\n",
    "    risk=(values<0).mean()\n",
    "    print(\"Средняя прибыль:\", mean)\n",
    "    print(\"95%-ый доверительный интервал:\", confidence_interval)\n",
    "    print('Риск убытков {:.2%}'.format(risk))\n",
    "    "
   ]
  },
  {
   "cell_type": "code",
   "execution_count": 40,
   "metadata": {},
   "outputs": [
    {
     "name": "stdout",
     "output_type": "stream",
     "text": [
      "Первый регион:\n",
      "Средняя прибыль: 425938526.9105923\n",
      "95%-ый доверительный интервал: (-102090094.83793654, 947976353.358369)\n",
      "Риск убытков 6.00%\n"
     ]
    }
   ],
   "source": [
    "print('Первый регион:')\n",
    "risk_revenue(target_predic['geo_data_0_target'], target_predic['geo_data_0_predic'])"
   ]
  },
  {
   "cell_type": "code",
   "execution_count": 41,
   "metadata": {},
   "outputs": [
    {
     "name": "stdout",
     "output_type": "stream",
     "text": [
      "Второй регион:\n",
      "Средняя прибыль: 515222773.44328994\n",
      "95%-ый доверительный интервал: (68873225.37050177, 931547591.2570496)\n",
      "Риск убытков 1.00%\n"
     ]
    }
   ],
   "source": [
    "print('Второй регион:')\n",
    "risk_revenue(target_predic['geo_data_1_target'], target_predic['geo_data_1_predic'])"
   ]
  },
  {
   "cell_type": "code",
   "execution_count": 42,
   "metadata": {
    "scrolled": true
   },
   "outputs": [
    {
     "name": "stdout",
     "output_type": "stream",
     "text": [
      "Третий регион:\n",
      "Средняя прибыль: 435008362.78275555\n",
      "95%-ый доверительный интервал: (-128880547.32978901, 969706954.1802679)\n",
      "Риск убытков 6.40%\n"
     ]
    }
   ],
   "source": [
    "print('Третий регион:')\n",
    "risk_revenue(target_predic['geo_data_2_target'], target_predic['geo_data_2_predic'])"
   ]
  },
  {
   "cell_type": "markdown",
   "metadata": {},
   "source": [
    "## Вывод   \n",
    "После применения теники Bootstrap и выбора оптимальных скважин, каждый из трех регионов оказался потенциально доходным.  \n",
    "Риск убытков во всех трех регионах составляет меньше 7%.   \n",
    "Оптимальным регионом для разработки меторождения считаю 2-й, так как там самая высокая средняя прибыль и самый низкий риск убытков.  "
   ]
  },
  {
   "cell_type": "code",
   "execution_count": null,
   "metadata": {},
   "outputs": [],
   "source": []
  }
 ],
 "metadata": {
  "kernelspec": {
   "display_name": "Python 3",
   "language": "python",
   "name": "python3"
  },
  "language_info": {
   "codemirror_mode": {
    "name": "ipython",
    "version": 3
   },
   "file_extension": ".py",
   "mimetype": "text/x-python",
   "name": "python",
   "nbconvert_exporter": "python",
   "pygments_lexer": "ipython3",
   "version": "3.8.8"
  },
  "toc": {
   "base_numbering": 1,
   "nav_menu": {},
   "number_sections": true,
   "sideBar": true,
   "skip_h1_title": true,
   "title_cell": "Содержание",
   "title_sidebar": "Содержание",
   "toc_cell": true,
   "toc_position": {},
   "toc_section_display": true,
   "toc_window_display": true
  }
 },
 "nbformat": 4,
 "nbformat_minor": 4
}
