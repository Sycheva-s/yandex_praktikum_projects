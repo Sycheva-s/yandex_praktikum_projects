{
 "cells": [
  {
   "cell_type": "markdown",
   "metadata": {
    "toc": true
   },
   "source": [
    "<h1>Содержание<span class=\"tocSkip\"></span></h1>\n",
    "<div class=\"toc\"><ul class=\"toc-item\"><li><span><a href=\"#Обзор-данных\" data-toc-modified-id=\"Обзор-данных-1\"><span class=\"toc-item-num\">1&nbsp;&nbsp;</span>Обзор данных</a></span></li><li><span><a href=\"#Подготовка-данных\" data-toc-modified-id=\"Подготовка-данных-2\"><span class=\"toc-item-num\">2&nbsp;&nbsp;</span>Подготовка данных</a></span><ul class=\"toc-item\"><li><span><a href=\"#Заполниние-пропсусков\" data-toc-modified-id=\"Заполниние-пропсусков-2.1\"><span class=\"toc-item-num\">2.1&nbsp;&nbsp;</span>Заполниние пропсусков</a></span></li></ul></li><li><span><a href=\"#Обучение-моделей\" data-toc-modified-id=\"Обучение-моделей-3\"><span class=\"toc-item-num\">3&nbsp;&nbsp;</span>Обучение моделей</a></span><ul class=\"toc-item\"><li><span><a href=\"#Catboost\" data-toc-modified-id=\"Catboost-3.1\"><span class=\"toc-item-num\">3.1&nbsp;&nbsp;</span>Catboost</a></span></li><li><span><a href=\"#LGBM\" data-toc-modified-id=\"LGBM-3.2\"><span class=\"toc-item-num\">3.2&nbsp;&nbsp;</span>LGBM</a></span></li><li><span><a href=\"#Случайный-лес\" data-toc-modified-id=\"Случайный-лес-3.3\"><span class=\"toc-item-num\">3.3&nbsp;&nbsp;</span>Случайный лес</a></span></li><li><span><a href=\"#Константная-модель\" data-toc-modified-id=\"Константная-модель-3.4\"><span class=\"toc-item-num\">3.4&nbsp;&nbsp;</span>Константная модель</a></span></li></ul></li><li><span><a href=\"#Анализ-моделей\" data-toc-modified-id=\"Анализ-моделей-4\"><span class=\"toc-item-num\">4&nbsp;&nbsp;</span>Анализ моделей</a></span></li><li><span><a href=\"#Общий-вывод\" data-toc-modified-id=\"Общий-вывод-5\"><span class=\"toc-item-num\">5&nbsp;&nbsp;</span>Общий вывод</a></span></li></ul></div>"
   ]
  },
  {
   "cell_type": "markdown",
   "metadata": {},
   "source": [
    "# Описание \n",
    "\n",
    "Сервис по продаже автомобилей с пробегом «Не бит, не крашен» разрабатывает приложение для привлечения новых клиентов. В нём можно быстро узнать рыночную стоимость своего автомобиля. В вашем распоряжении исторические данные: технические характеристики, комплектации и цены автомобилей. Вам нужно построить модель для определения стоимости. \n",
    "\n",
    "Заказчику важны:\n",
    "\n",
    "- качество предсказания;\n",
    "- скорость предсказания;\n",
    "- время обучения."
   ]
  },
  {
   "cell_type": "markdown",
   "metadata": {},
   "source": [
    "## Обзор данных"
   ]
  },
  {
   "cell_type": "code",
   "execution_count": 135,
   "metadata": {},
   "outputs": [],
   "source": [
    "import pandas as pd\n",
    "import numpy as np\n",
    "import matplotlib.pyplot as plt\n",
    "import random\n",
    "import seaborn as sns, numpy as np\n",
    "\n",
    "from sklearn.model_selection import train_test_split\n",
    "\n",
    "from sklearn.ensemble import RandomForestRegressor\n",
    "from sklearn.linear_model import LinearRegression\n",
    "\n",
    "import lightgbm as lgb\n",
    "from lightgbm import LGBMRegressor\n",
    "\n",
    "from sklearn.metrics import mean_squared_error\n",
    "from sklearn.metrics import r2_score\n",
    "\n",
    "from sklearn.model_selection import GridSearchCV\n",
    "\n",
    "import time"
   ]
  },
  {
   "cell_type": "code",
   "execution_count": 136,
   "metadata": {},
   "outputs": [
    {
     "data": {
      "text/html": [
       "<div>\n",
       "<style scoped>\n",
       "    .dataframe tbody tr th:only-of-type {\n",
       "        vertical-align: middle;\n",
       "    }\n",
       "\n",
       "    .dataframe tbody tr th {\n",
       "        vertical-align: top;\n",
       "    }\n",
       "\n",
       "    .dataframe thead th {\n",
       "        text-align: right;\n",
       "    }\n",
       "</style>\n",
       "<table border=\"1\" class=\"dataframe\">\n",
       "  <thead>\n",
       "    <tr style=\"text-align: right;\">\n",
       "      <th></th>\n",
       "      <th>DateCrawled</th>\n",
       "      <th>Price</th>\n",
       "      <th>VehicleType</th>\n",
       "      <th>RegistrationYear</th>\n",
       "      <th>Gearbox</th>\n",
       "      <th>Power</th>\n",
       "      <th>Model</th>\n",
       "      <th>Kilometer</th>\n",
       "      <th>RegistrationMonth</th>\n",
       "      <th>FuelType</th>\n",
       "      <th>Brand</th>\n",
       "      <th>NotRepaired</th>\n",
       "      <th>DateCreated</th>\n",
       "      <th>NumberOfPictures</th>\n",
       "      <th>PostalCode</th>\n",
       "      <th>LastSeen</th>\n",
       "    </tr>\n",
       "  </thead>\n",
       "  <tbody>\n",
       "    <tr>\n",
       "      <th>0</th>\n",
       "      <td>2016-03-24 11:52:17</td>\n",
       "      <td>480</td>\n",
       "      <td>NaN</td>\n",
       "      <td>1993</td>\n",
       "      <td>manual</td>\n",
       "      <td>0</td>\n",
       "      <td>golf</td>\n",
       "      <td>150000</td>\n",
       "      <td>0</td>\n",
       "      <td>petrol</td>\n",
       "      <td>volkswagen</td>\n",
       "      <td>NaN</td>\n",
       "      <td>2016-03-24 00:00:00</td>\n",
       "      <td>0</td>\n",
       "      <td>70435</td>\n",
       "      <td>2016-04-07 03:16:57</td>\n",
       "    </tr>\n",
       "    <tr>\n",
       "      <th>1</th>\n",
       "      <td>2016-03-24 10:58:45</td>\n",
       "      <td>18300</td>\n",
       "      <td>coupe</td>\n",
       "      <td>2011</td>\n",
       "      <td>manual</td>\n",
       "      <td>190</td>\n",
       "      <td>NaN</td>\n",
       "      <td>125000</td>\n",
       "      <td>5</td>\n",
       "      <td>gasoline</td>\n",
       "      <td>audi</td>\n",
       "      <td>yes</td>\n",
       "      <td>2016-03-24 00:00:00</td>\n",
       "      <td>0</td>\n",
       "      <td>66954</td>\n",
       "      <td>2016-04-07 01:46:50</td>\n",
       "    </tr>\n",
       "  </tbody>\n",
       "</table>\n",
       "</div>"
      ],
      "text/plain": [
       "           DateCrawled  Price VehicleType  RegistrationYear Gearbox  Power  \\\n",
       "0  2016-03-24 11:52:17    480         NaN              1993  manual      0   \n",
       "1  2016-03-24 10:58:45  18300       coupe              2011  manual    190   \n",
       "\n",
       "  Model  Kilometer  RegistrationMonth  FuelType       Brand NotRepaired  \\\n",
       "0  golf     150000                  0    petrol  volkswagen         NaN   \n",
       "1   NaN     125000                  5  gasoline        audi         yes   \n",
       "\n",
       "           DateCreated  NumberOfPictures  PostalCode             LastSeen  \n",
       "0  2016-03-24 00:00:00                 0       70435  2016-04-07 03:16:57  \n",
       "1  2016-03-24 00:00:00                 0       66954  2016-04-07 01:46:50  "
      ]
     },
     "metadata": {},
     "output_type": "display_data"
    },
    {
     "name": "stdout",
     "output_type": "stream",
     "text": [
      "<class 'pandas.core.frame.DataFrame'>\n",
      "RangeIndex: 354369 entries, 0 to 354368\n",
      "Data columns (total 16 columns):\n",
      " #   Column             Non-Null Count   Dtype \n",
      "---  ------             --------------   ----- \n",
      " 0   DateCrawled        354369 non-null  object\n",
      " 1   Price              354369 non-null  int64 \n",
      " 2   VehicleType        316879 non-null  object\n",
      " 3   RegistrationYear   354369 non-null  int64 \n",
      " 4   Gearbox            334536 non-null  object\n",
      " 5   Power              354369 non-null  int64 \n",
      " 6   Model              334664 non-null  object\n",
      " 7   Kilometer          354369 non-null  int64 \n",
      " 8   RegistrationMonth  354369 non-null  int64 \n",
      " 9   FuelType           321474 non-null  object\n",
      " 10  Brand              354369 non-null  object\n",
      " 11  NotRepaired        283215 non-null  object\n",
      " 12  DateCreated        354369 non-null  object\n",
      " 13  NumberOfPictures   354369 non-null  int64 \n",
      " 14  PostalCode         354369 non-null  int64 \n",
      " 15  LastSeen           354369 non-null  object\n",
      "dtypes: int64(7), object(9)\n",
      "memory usage: 43.3+ MB\n"
     ]
    }
   ],
   "source": [
    "#df=pd.read_csv(r'C:\\Users\\Susanna\\Downloads\\autos.csv')\n",
    "df=pd.read_csv(r'/datasets/autos.csv')\n",
    "\n",
    "display(df.head(2))\n",
    "df.info()"
   ]
  },
  {
   "cell_type": "code",
   "execution_count": 137,
   "metadata": {
    "scrolled": false
   },
   "outputs": [
    {
     "data": {
      "text/html": [
       "<div>\n",
       "<style scoped>\n",
       "    .dataframe tbody tr th:only-of-type {\n",
       "        vertical-align: middle;\n",
       "    }\n",
       "\n",
       "    .dataframe tbody tr th {\n",
       "        vertical-align: top;\n",
       "    }\n",
       "\n",
       "    .dataframe thead th {\n",
       "        text-align: right;\n",
       "    }\n",
       "</style>\n",
       "<table border=\"1\" class=\"dataframe\">\n",
       "  <thead>\n",
       "    <tr style=\"text-align: right;\">\n",
       "      <th></th>\n",
       "      <th>Price</th>\n",
       "      <th>RegistrationYear</th>\n",
       "      <th>Power</th>\n",
       "      <th>Kilometer</th>\n",
       "      <th>RegistrationMonth</th>\n",
       "      <th>NumberOfPictures</th>\n",
       "      <th>PostalCode</th>\n",
       "    </tr>\n",
       "  </thead>\n",
       "  <tbody>\n",
       "    <tr>\n",
       "      <th>count</th>\n",
       "      <td>354369.000000</td>\n",
       "      <td>354369.000000</td>\n",
       "      <td>354369.000000</td>\n",
       "      <td>354369.000000</td>\n",
       "      <td>354369.000000</td>\n",
       "      <td>354369.0</td>\n",
       "      <td>354369.000000</td>\n",
       "    </tr>\n",
       "    <tr>\n",
       "      <th>mean</th>\n",
       "      <td>4416.656776</td>\n",
       "      <td>2004.234448</td>\n",
       "      <td>110.094337</td>\n",
       "      <td>128211.172535</td>\n",
       "      <td>5.714645</td>\n",
       "      <td>0.0</td>\n",
       "      <td>50508.689087</td>\n",
       "    </tr>\n",
       "    <tr>\n",
       "      <th>std</th>\n",
       "      <td>4514.158514</td>\n",
       "      <td>90.227958</td>\n",
       "      <td>189.850405</td>\n",
       "      <td>37905.341530</td>\n",
       "      <td>3.726421</td>\n",
       "      <td>0.0</td>\n",
       "      <td>25783.096248</td>\n",
       "    </tr>\n",
       "    <tr>\n",
       "      <th>min</th>\n",
       "      <td>0.000000</td>\n",
       "      <td>1000.000000</td>\n",
       "      <td>0.000000</td>\n",
       "      <td>5000.000000</td>\n",
       "      <td>0.000000</td>\n",
       "      <td>0.0</td>\n",
       "      <td>1067.000000</td>\n",
       "    </tr>\n",
       "    <tr>\n",
       "      <th>25%</th>\n",
       "      <td>1050.000000</td>\n",
       "      <td>1999.000000</td>\n",
       "      <td>69.000000</td>\n",
       "      <td>125000.000000</td>\n",
       "      <td>3.000000</td>\n",
       "      <td>0.0</td>\n",
       "      <td>30165.000000</td>\n",
       "    </tr>\n",
       "    <tr>\n",
       "      <th>50%</th>\n",
       "      <td>2700.000000</td>\n",
       "      <td>2003.000000</td>\n",
       "      <td>105.000000</td>\n",
       "      <td>150000.000000</td>\n",
       "      <td>6.000000</td>\n",
       "      <td>0.0</td>\n",
       "      <td>49413.000000</td>\n",
       "    </tr>\n",
       "    <tr>\n",
       "      <th>75%</th>\n",
       "      <td>6400.000000</td>\n",
       "      <td>2008.000000</td>\n",
       "      <td>143.000000</td>\n",
       "      <td>150000.000000</td>\n",
       "      <td>9.000000</td>\n",
       "      <td>0.0</td>\n",
       "      <td>71083.000000</td>\n",
       "    </tr>\n",
       "    <tr>\n",
       "      <th>max</th>\n",
       "      <td>20000.000000</td>\n",
       "      <td>9999.000000</td>\n",
       "      <td>20000.000000</td>\n",
       "      <td>150000.000000</td>\n",
       "      <td>12.000000</td>\n",
       "      <td>0.0</td>\n",
       "      <td>99998.000000</td>\n",
       "    </tr>\n",
       "  </tbody>\n",
       "</table>\n",
       "</div>"
      ],
      "text/plain": [
       "               Price  RegistrationYear          Power      Kilometer  \\\n",
       "count  354369.000000     354369.000000  354369.000000  354369.000000   \n",
       "mean     4416.656776       2004.234448     110.094337  128211.172535   \n",
       "std      4514.158514         90.227958     189.850405   37905.341530   \n",
       "min         0.000000       1000.000000       0.000000    5000.000000   \n",
       "25%      1050.000000       1999.000000      69.000000  125000.000000   \n",
       "50%      2700.000000       2003.000000     105.000000  150000.000000   \n",
       "75%      6400.000000       2008.000000     143.000000  150000.000000   \n",
       "max     20000.000000       9999.000000   20000.000000  150000.000000   \n",
       "\n",
       "       RegistrationMonth  NumberOfPictures     PostalCode  \n",
       "count      354369.000000          354369.0  354369.000000  \n",
       "mean            5.714645               0.0   50508.689087  \n",
       "std             3.726421               0.0   25783.096248  \n",
       "min             0.000000               0.0    1067.000000  \n",
       "25%             3.000000               0.0   30165.000000  \n",
       "50%             6.000000               0.0   49413.000000  \n",
       "75%             9.000000               0.0   71083.000000  \n",
       "max            12.000000               0.0   99998.000000  "
      ]
     },
     "execution_count": 137,
     "metadata": {},
     "output_type": "execute_result"
    }
   ],
   "source": [
    "df.describe()"
   ]
  },
  {
   "cell_type": "markdown",
   "metadata": {},
   "source": [
    "**Вывод**  \n",
    "Таблица содержит 354369 строк и 16 столбцов. Есть пропуски в столбцах VehicleType, Gearbox, Model, FuelType, NotRepaired.  \n",
    "В целевом признаке Price пропусков нет."
   ]
  },
  {
   "cell_type": "markdown",
   "metadata": {},
   "source": [
    "## Подготовка данных"
   ]
  },
  {
   "cell_type": "markdown",
   "metadata": {},
   "source": [
    "**Price**  \n",
    "Цена колебется в интервале от 0 до 20000 евро. \n",
    "Очень много машин, цена которых не достигает и 100 евро. Это подозрительно, ведь такую машину выгоднее сдать в металлолом. \n",
    "Удалю эти строки."
   ]
  },
  {
   "cell_type": "code",
   "execution_count": 138,
   "metadata": {},
   "outputs": [],
   "source": [
    "df=df.query('Price>=100')"
   ]
  },
  {
   "cell_type": "markdown",
   "metadata": {},
   "source": [
    "**RegistrationYear**    \n",
    "Самый ранний год регистрации автомобиля - 1000, а самый поздний - 9999. Это явно ошибка. Оставлю только года 1920-2020."
   ]
  },
  {
   "cell_type": "code",
   "execution_count": 139,
   "metadata": {},
   "outputs": [],
   "source": [
    "df=df.query('1920<RegistrationYear<2020')"
   ]
  },
  {
   "cell_type": "markdown",
   "metadata": {},
   "source": [
    "**Power**    \n",
    "Мощность автмобилей колеблется от 0 до 20000 л.с. Это тоже ошибка. Оставлю только автомобили с мощностью \n",
    "4-2000 лс"
   ]
  },
  {
   "cell_type": "code",
   "execution_count": 140,
   "metadata": {
    "scrolled": true
   },
   "outputs": [
    {
     "data": {
      "text/plain": [
       "75      23182\n",
       "60      15354\n",
       "150     14107\n",
       "101     12926\n",
       "140     12687\n",
       "        ...  \n",
       "1090        1\n",
       "1968        1\n",
       "1202        1\n",
       "696         1\n",
       "1394        1\n",
       "Name: Power, Length: 595, dtype: int64"
      ]
     },
     "execution_count": 140,
     "metadata": {},
     "output_type": "execute_result"
    }
   ],
   "source": [
    "df=df.query('4<Power<2000')\n",
    "df['Power'].value_counts()#.sort_index().head(200)"
   ]
  },
  {
   "cell_type": "markdown",
   "metadata": {},
   "source": [
    "### Заполниние пропсусков"
   ]
  },
  {
   "cell_type": "markdown",
   "metadata": {},
   "source": [
    "Оценю кол-во пропусков:"
   ]
  },
  {
   "cell_type": "code",
   "execution_count": 141,
   "metadata": {},
   "outputs": [
    {
     "name": "stdout",
     "output_type": "stream",
     "text": [
      "В VehicleType пропусков 6.89%\n",
      "В Gearbox пропусков 1.95%\n",
      "В Model пропусков 4.02%\n",
      "В FuelType пропусков 6.38%\n",
      "В NotRepaired пропусков 15.25%\n"
     ]
    }
   ],
   "source": [
    "print('В VehicleType пропусков {:.2%}'.format(df['VehicleType'].isna().sum()/len(df)))\n",
    "print('В Gearbox пропусков {:.2%}'.format(df['Gearbox'].isna().sum()/len(df)))\n",
    "print('В Model пропусков {:.2%}'.format(df['Model'].isna().sum()/len(df)))\n",
    "print('В FuelType пропусков {:.2%}'.format(df['FuelType'].isna().sum()/len(df)))\n",
    "print('В NotRepaired пропусков {:.2%}'.format(df['NotRepaired'].isna().sum()/len(df)))"
   ]
  },
  {
   "cell_type": "markdown",
   "metadata": {},
   "source": [
    "**VehicleType**"
   ]
  },
  {
   "cell_type": "code",
   "execution_count": 142,
   "metadata": {},
   "outputs": [
    {
     "data": {
      "text/plain": [
       "sedan          82917\n",
       "small          69734\n",
       "wagon          59151\n",
       "bus            26178\n",
       "NaN            21067\n",
       "convertible    18750\n",
       "coupe          14564\n",
       "suv            10946\n",
       "other           2465\n",
       "Name: VehicleType, dtype: int64"
      ]
     },
     "execution_count": 142,
     "metadata": {},
     "output_type": "execute_result"
    }
   ],
   "source": [
    "df['VehicleType'].value_counts(dropna=False)"
   ]
  },
  {
   "cell_type": "markdown",
   "metadata": {},
   "source": [
    "Пропусков мало, но думаю что можно их перевести в наиболее популярный класс - автомобилей седан."
   ]
  },
  {
   "cell_type": "code",
   "execution_count": 143,
   "metadata": {},
   "outputs": [
    {
     "data": {
      "text/plain": [
       "sedan          103984\n",
       "small           69734\n",
       "wagon           59151\n",
       "bus             26178\n",
       "convertible     18750\n",
       "coupe           14564\n",
       "suv             10946\n",
       "other            2465\n",
       "Name: VehicleType, dtype: int64"
      ]
     },
     "execution_count": 143,
     "metadata": {},
     "output_type": "execute_result"
    }
   ],
   "source": [
    "def vehicle(row):\n",
    "    if row['VehicleType']!=row['VehicleType']:\n",
    "        return 'sedan'\n",
    "    else:\n",
    "        return row['VehicleType']\n",
    "df['VehicleType']=df.apply(vehicle, axis=1)\n",
    "\n",
    "df['VehicleType'].value_counts(dropna=False)"
   ]
  },
  {
   "cell_type": "markdown",
   "metadata": {},
   "source": [
    "**Gearbox**"
   ]
  },
  {
   "cell_type": "code",
   "execution_count": 144,
   "metadata": {},
   "outputs": [
    {
     "data": {
      "text/plain": [
       "manual    239602\n",
       "auto       60217\n",
       "NaN         5953\n",
       "Name: Gearbox, dtype: int64"
      ]
     },
     "execution_count": 144,
     "metadata": {},
     "output_type": "execute_result"
    }
   ],
   "source": [
    "df['Gearbox'].value_counts(dropna=False)"
   ]
  },
  {
   "cell_type": "markdown",
   "metadata": {},
   "source": [
    "Пропусков мало, но думаю что можно их перевести в наиболее популярный класс - автомобилей с ручной коробкой передач."
   ]
  },
  {
   "cell_type": "code",
   "execution_count": 145,
   "metadata": {},
   "outputs": [
    {
     "data": {
      "text/plain": [
       "manual    245555\n",
       "auto       60217\n",
       "Name: Gearbox, dtype: int64"
      ]
     },
     "execution_count": 145,
     "metadata": {},
     "output_type": "execute_result"
    }
   ],
   "source": [
    "def gearbox(row):\n",
    "    if row['Gearbox']!=row['Gearbox']:\n",
    "        return 'manual'\n",
    "    else:\n",
    "        return row['Gearbox']\n",
    "df['Gearbox']=df.apply(gearbox, axis=1)\n",
    "\n",
    "df['Gearbox'].value_counts(dropna=False)"
   ]
  },
  {
   "cell_type": "markdown",
   "metadata": {},
   "source": [
    "**Model**"
   ]
  },
  {
   "cell_type": "code",
   "execution_count": 146,
   "metadata": {},
   "outputs": [
    {
     "data": {
      "text/plain": [
       "golf                  25916\n",
       "other                 20721\n",
       "3er                   17722\n",
       "NaN                   12297\n",
       "polo                  11078\n",
       "                      ...  \n",
       "kalina                    5\n",
       "i3                        5\n",
       "rangerover                3\n",
       "serie_3                   3\n",
       "range_rover_evoque        2\n",
       "Name: Model, Length: 250, dtype: int64"
      ]
     },
     "execution_count": 146,
     "metadata": {},
     "output_type": "execute_result"
    }
   ],
   "source": [
    "df['Model'].value_counts(dropna=False)"
   ]
  },
  {
   "cell_type": "markdown",
   "metadata": {},
   "source": [
    "4% не так много, я удалю строки с попусщенной моделью"
   ]
  },
  {
   "cell_type": "code",
   "execution_count": 147,
   "metadata": {},
   "outputs": [
    {
     "data": {
      "text/plain": [
       "0"
      ]
     },
     "execution_count": 147,
     "metadata": {},
     "output_type": "execute_result"
    }
   ],
   "source": [
    "df.dropna(subset=['Model'], inplace=True)\n",
    "df['Model'].isna().sum()"
   ]
  },
  {
   "cell_type": "markdown",
   "metadata": {},
   "source": [
    "**FuelType**"
   ]
  },
  {
   "cell_type": "code",
   "execution_count": 148,
   "metadata": {
    "scrolled": false
   },
   "outputs": [
    {
     "data": {
      "text/plain": [
       "petrol      184658\n",
       "gasoline     87326\n",
       "NaN          16189\n",
       "lpg           4509\n",
       "cng            481\n",
       "hybrid         181\n",
       "other           72\n",
       "electric        59\n",
       "Name: FuelType, dtype: int64"
      ]
     },
     "execution_count": 148,
     "metadata": {},
     "output_type": "execute_result"
    }
   ],
   "source": [
    "df['FuelType'].value_counts(dropna=False)"
   ]
  },
  {
   "cell_type": "markdown",
   "metadata": {},
   "source": [
    "6.38% отнесу к самому популярному классу бензиновых"
   ]
  },
  {
   "cell_type": "code",
   "execution_count": 149,
   "metadata": {},
   "outputs": [
    {
     "data": {
      "text/plain": [
       "petrol      200847\n",
       "gasoline     87326\n",
       "lpg           4509\n",
       "cng            481\n",
       "hybrid         181\n",
       "other           72\n",
       "electric        59\n",
       "Name: FuelType, dtype: int64"
      ]
     },
     "execution_count": 149,
     "metadata": {},
     "output_type": "execute_result"
    }
   ],
   "source": [
    "def fuel(row):\n",
    "    if row['FuelType']!=row['FuelType']:\n",
    "        return 'petrol'\n",
    "    else:\n",
    "        return row['FuelType']\n",
    "df['FuelType']=df.apply(fuel, axis=1)\n",
    "\n",
    "df['FuelType'].value_counts(dropna=False)"
   ]
  },
  {
   "cell_type": "markdown",
   "metadata": {},
   "source": [
    "**NotRepaired**"
   ]
  },
  {
   "cell_type": "code",
   "execution_count": 150,
   "metadata": {},
   "outputs": [
    {
     "data": {
      "text/plain": [
       "no     223254\n",
       "NaN     42413\n",
       "yes     27808\n",
       "Name: NotRepaired, dtype: int64"
      ]
     },
     "execution_count": 150,
     "metadata": {},
     "output_type": "execute_result"
    }
   ],
   "source": [
    "df['NotRepaired'].value_counts(dropna=False)"
   ]
  },
  {
   "cell_type": "markdown",
   "metadata": {},
   "source": [
    "Предпологаю, что если про ремонт вообще ничего не указанно то его скорее всего его и не было."
   ]
  },
  {
   "cell_type": "code",
   "execution_count": 151,
   "metadata": {},
   "outputs": [
    {
     "data": {
      "text/plain": [
       "no     265667\n",
       "yes     27808\n",
       "Name: NotRepaired, dtype: int64"
      ]
     },
     "execution_count": 151,
     "metadata": {},
     "output_type": "execute_result"
    }
   ],
   "source": [
    "def repair(row):\n",
    "    if row['NotRepaired']!=row['NotRepaired']:\n",
    "        return 'no'\n",
    "    else:\n",
    "        return row['NotRepaired']\n",
    "df['NotRepaired']=df.apply(repair, axis=1)\n",
    "\n",
    "df['NotRepaired'].value_counts(dropna=False)"
   ]
  },
  {
   "cell_type": "markdown",
   "metadata": {},
   "source": [
    "Проверю как изсенилась таблица:"
   ]
  },
  {
   "cell_type": "code",
   "execution_count": 152,
   "metadata": {},
   "outputs": [
    {
     "name": "stdout",
     "output_type": "stream",
     "text": [
      "<class 'pandas.core.frame.DataFrame'>\n",
      "Int64Index: 293475 entries, 2 to 354368\n",
      "Data columns (total 16 columns):\n",
      " #   Column             Non-Null Count   Dtype \n",
      "---  ------             --------------   ----- \n",
      " 0   DateCrawled        293475 non-null  object\n",
      " 1   Price              293475 non-null  int64 \n",
      " 2   VehicleType        293475 non-null  object\n",
      " 3   RegistrationYear   293475 non-null  int64 \n",
      " 4   Gearbox            293475 non-null  object\n",
      " 5   Power              293475 non-null  int64 \n",
      " 6   Model              293475 non-null  object\n",
      " 7   Kilometer          293475 non-null  int64 \n",
      " 8   RegistrationMonth  293475 non-null  int64 \n",
      " 9   FuelType           293475 non-null  object\n",
      " 10  Brand              293475 non-null  object\n",
      " 11  NotRepaired        293475 non-null  object\n",
      " 12  DateCreated        293475 non-null  object\n",
      " 13  NumberOfPictures   293475 non-null  int64 \n",
      " 14  PostalCode         293475 non-null  int64 \n",
      " 15  LastSeen           293475 non-null  object\n",
      "dtypes: int64(7), object(9)\n",
      "memory usage: 38.1+ MB\n"
     ]
    }
   ],
   "source": [
    "df.info()"
   ]
  },
  {
   "cell_type": "markdown",
   "metadata": {},
   "source": [
    "удалю не нужные для обучения моделей столбцы"
   ]
  },
  {
   "cell_type": "code",
   "execution_count": 153,
   "metadata": {},
   "outputs": [],
   "source": [
    "df_model=df.drop(['DateCrawled', 'RegistrationMonth', 'DateCreated', 'PostalCode', 'LastSeen'], axis=1)"
   ]
  },
  {
   "cell_type": "code",
   "execution_count": 154,
   "metadata": {
    "scrolled": false
   },
   "outputs": [
    {
     "name": "stdout",
     "output_type": "stream",
     "text": [
      "Price\n",
      "1500     4382\n",
      "500      4326\n",
      "1200     3733\n",
      "2500     3652\n",
      "1000     3589\n",
      "         ... \n",
      "10895       1\n",
      "7049        1\n",
      "11919       1\n",
      "14220       1\n",
      "2691        1\n",
      "Name: Price, Length: 3534, dtype: int64\n",
      "\n",
      "VehicleType\n",
      "sedan          98687\n",
      "small          67339\n",
      "wagon          57540\n",
      "bus            25467\n",
      "convertible    18059\n",
      "coupe          13835\n",
      "suv            10338\n",
      "other           2210\n",
      "Name: VehicleType, dtype: int64\n",
      "\n",
      "RegistrationYear\n",
      "1999    18694\n",
      "2005    18277\n",
      "2006    18123\n",
      "2000    17784\n",
      "2003    17413\n",
      "        ...  \n",
      "1932        1\n",
      "1931        1\n",
      "1949        1\n",
      "1928        1\n",
      "1927        1\n",
      "Name: RegistrationYear, Length: 87, dtype: int64\n",
      "\n",
      "Gearbox\n",
      "manual    235749\n",
      "auto       57726\n",
      "Name: Gearbox, dtype: int64\n",
      "\n",
      "Power\n",
      "75      22113\n",
      "60      14633\n",
      "150     13544\n",
      "101     12436\n",
      "140     12337\n",
      "        ...  \n",
      "1240        1\n",
      "1241        1\n",
      "421         1\n",
      "808         1\n",
      "1362        1\n",
      "Name: Power, Length: 574, dtype: int64\n",
      "\n",
      "Model\n",
      "golf                  25916\n",
      "other                 20721\n",
      "3er                   17722\n",
      "polo                  11078\n",
      "corsa                 10457\n",
      "                      ...  \n",
      "i3                        5\n",
      "kalina                    5\n",
      "serie_3                   3\n",
      "rangerover                3\n",
      "range_rover_evoque        2\n",
      "Name: Model, Length: 249, dtype: int64\n",
      "\n",
      "Kilometer\n",
      "150000    194639\n",
      "125000     31763\n",
      "100000     12716\n",
      "90000      10258\n",
      "80000       9003\n",
      "70000       7728\n",
      "60000       6778\n",
      "50000       5631\n",
      "40000       4437\n",
      "30000       3847\n",
      "20000       3188\n",
      "5000        2601\n",
      "10000        886\n",
      "Name: Kilometer, dtype: int64\n",
      "\n",
      "FuelType\n",
      "petrol      200847\n",
      "gasoline     87326\n",
      "lpg           4509\n",
      "cng            481\n",
      "hybrid         181\n",
      "other           72\n",
      "electric        59\n",
      "Name: FuelType, dtype: int64\n",
      "\n",
      "Brand\n",
      "volkswagen       64448\n",
      "opel             32484\n",
      "bmw              31699\n",
      "mercedes_benz    27265\n",
      "audi             25485\n",
      "ford             20704\n",
      "renault          14079\n",
      "peugeot           9046\n",
      "fiat              7649\n",
      "seat              5979\n",
      "skoda             4956\n",
      "mazda             4655\n",
      "smart             4453\n",
      "citroen           4242\n",
      "nissan            4036\n",
      "toyota            4012\n",
      "hyundai           3039\n",
      "mini              3004\n",
      "volvo             2791\n",
      "mitsubishi        2459\n",
      "honda             2360\n",
      "kia               2073\n",
      "alfa_romeo        1945\n",
      "suzuki            1927\n",
      "chevrolet         1432\n",
      "chrysler          1131\n",
      "dacia              809\n",
      "subaru             626\n",
      "porsche            615\n",
      "daihatsu           611\n",
      "jeep               574\n",
      "saab               473\n",
      "land_rover         459\n",
      "jaguar             432\n",
      "daewoo             397\n",
      "lancia             379\n",
      "rover              331\n",
      "trabant            264\n",
      "lada               152\n",
      "Name: Brand, dtype: int64\n",
      "\n",
      "NotRepaired\n",
      "no     265667\n",
      "yes     27808\n",
      "Name: NotRepaired, dtype: int64\n",
      "\n",
      "NumberOfPictures\n",
      "0    293475\n",
      "Name: NumberOfPictures, dtype: int64\n",
      "\n"
     ]
    }
   ],
   "source": [
    "for i in df_model.columns:\n",
    "    print(i)\n",
    "    print(df_model[i].value_counts())\n",
    "    print()"
   ]
  },
  {
   "cell_type": "code",
   "execution_count": 155,
   "metadata": {},
   "outputs": [],
   "source": [
    "df_model=df_model.drop(['NumberOfPictures'], axis=1)"
   ]
  },
  {
   "cell_type": "code",
   "execution_count": 156,
   "metadata": {},
   "outputs": [
    {
     "name": "stdout",
     "output_type": "stream",
     "text": [
      "<class 'pandas.core.frame.DataFrame'>\n",
      "Int64Index: 245062 entries, 2 to 354368\n",
      "Data columns (total 10 columns):\n",
      " #   Column            Non-Null Count   Dtype \n",
      "---  ------            --------------   ----- \n",
      " 0   Price             245062 non-null  int64 \n",
      " 1   VehicleType       245062 non-null  object\n",
      " 2   RegistrationYear  245062 non-null  int64 \n",
      " 3   Gearbox           245062 non-null  object\n",
      " 4   Power             245062 non-null  int64 \n",
      " 5   Model             245062 non-null  object\n",
      " 6   Kilometer         245062 non-null  int64 \n",
      " 7   FuelType          245062 non-null  object\n",
      " 8   Brand             245062 non-null  object\n",
      " 9   NotRepaired       245062 non-null  object\n",
      "dtypes: int64(4), object(6)\n",
      "memory usage: 20.6+ MB\n"
     ]
    }
   ],
   "source": [
    "df_model=df_model.drop_duplicates()\n",
    "df_model.info()"
   ]
  },
  {
   "cell_type": "markdown",
   "metadata": {},
   "source": [
    "**Вывод**    \n",
    "Заполнила все пропуски, удалила некоректные строки.  \n",
    "Также удалила столбцы, которые на мой взгляд не влияют на стоимость автомобилей ('DateCrawled', 'RegistrationMonth', 'DateCreated', 'PostalCode', 'LastSeen', 'NumberOfPictures').  \n",
    "Удлила дубликаты.\n"
   ]
  },
  {
   "cell_type": "markdown",
   "metadata": {},
   "source": [
    "## Обучение моделей"
   ]
  },
  {
   "cell_type": "code",
   "execution_count": 157,
   "metadata": {},
   "outputs": [],
   "source": [
    "features_train, features_valid, target_train, target_valid = train_test_split(\n",
    "    df_model.drop('Price', axis=1), df_model.Price, test_size=0.25, random_state=12345)"
   ]
  },
  {
   "cell_type": "code",
   "execution_count": 158,
   "metadata": {},
   "outputs": [
    {
     "data": {
      "text/plain": [
       "((183796, 9), (61266, 9), (183796,), (61266,))"
      ]
     },
     "execution_count": 158,
     "metadata": {},
     "output_type": "execute_result"
    }
   ],
   "source": [
    "features_train.shape, features_valid.shape, target_train.shape, target_valid.shape"
   ]
  },
  {
   "cell_type": "code",
   "execution_count": 159,
   "metadata": {},
   "outputs": [],
   "source": [
    "table=pd.DataFrame()"
   ]
  },
  {
   "cell_type": "code",
   "execution_count": 160,
   "metadata": {},
   "outputs": [],
   "source": [
    "cat_features=['VehicleType', \"Gearbox\", \"Model\", \"FuelType\",\"Brand\",\"NotRepaired\"]"
   ]
  },
  {
   "cell_type": "markdown",
   "metadata": {},
   "source": [
    "### Catboost"
   ]
  },
  {
   "cell_type": "code",
   "execution_count": 161,
   "metadata": {},
   "outputs": [],
   "source": [
    "from catboost import CatBoostRegressor\n",
    "model = CatBoostRegressor(iterations=50)"
   ]
  },
  {
   "cell_type": "code",
   "execution_count": 162,
   "metadata": {},
   "outputs": [
    {
     "name": "stdout",
     "output_type": "stream",
     "text": [
      "0:\tlearn: 4527.1236521\ttotal: 17.2ms\tremaining: 17.2s\n",
      "200:\tlearn: 2306.7238641\ttotal: 1.73s\tremaining: 6.89s\n",
      "400:\tlearn: 2239.7784867\ttotal: 3.37s\tremaining: 5.03s\n",
      "600:\tlearn: 2223.3443984\ttotal: 5s\tremaining: 3.32s\n",
      "800:\tlearn: 2214.5201062\ttotal: 6.63s\tremaining: 1.65s\n",
      "999:\tlearn: 2208.6920567\ttotal: 8.35s\tremaining: 0us\n",
      "0:\tlearn: 4521.7376951\ttotal: 18.4ms\tremaining: 18.4s\n",
      "200:\tlearn: 2300.7781336\ttotal: 1.8s\tremaining: 7.18s\n",
      "400:\tlearn: 2233.4586644\ttotal: 3.61s\tremaining: 5.39s\n",
      "600:\tlearn: 2216.7666635\ttotal: 5.63s\tremaining: 3.73s\n",
      "800:\tlearn: 2207.6307758\ttotal: 7.31s\tremaining: 1.82s\n",
      "999:\tlearn: 2201.4331334\ttotal: 9.04s\tremaining: 0us\n",
      "0:\tlearn: 4525.4280812\ttotal: 18.8ms\tremaining: 18.7s\n",
      "200:\tlearn: 2301.5394653\ttotal: 2.28s\tremaining: 9.07s\n",
      "400:\tlearn: 2234.0125709\ttotal: 4.17s\tremaining: 6.24s\n",
      "600:\tlearn: 2215.1397652\ttotal: 6.17s\tremaining: 4.1s\n",
      "800:\tlearn: 2205.7516779\ttotal: 7.9s\tremaining: 1.96s\n",
      "999:\tlearn: 2200.0008862\ttotal: 9.6s\tremaining: 0us\n",
      "0:\tlearn: 4458.0812905\ttotal: 17.8ms\tremaining: 17.8s\n",
      "200:\tlearn: 2260.0982299\ttotal: 1.74s\tremaining: 6.93s\n",
      "400:\tlearn: 2225.1109622\ttotal: 3.4s\tremaining: 5.08s\n",
      "600:\tlearn: 2212.7965536\ttotal: 5.1s\tremaining: 3.38s\n",
      "800:\tlearn: 2205.5271720\ttotal: 6.78s\tremaining: 1.68s\n",
      "999:\tlearn: 2200.0519342\ttotal: 8.45s\tremaining: 0us\n",
      "0:\tlearn: 4452.6476214\ttotal: 16.3ms\tremaining: 16.3s\n",
      "200:\tlearn: 2255.6735707\ttotal: 1.72s\tremaining: 6.83s\n",
      "400:\tlearn: 2218.5671794\ttotal: 3.38s\tremaining: 5.04s\n",
      "600:\tlearn: 2205.0894525\ttotal: 5.03s\tremaining: 3.34s\n",
      "800:\tlearn: 2196.7535306\ttotal: 6.75s\tremaining: 1.68s\n",
      "999:\tlearn: 2190.7601902\ttotal: 8.42s\tremaining: 0us\n",
      "0:\tlearn: 4456.4197648\ttotal: 18.6ms\tremaining: 18.6s\n",
      "200:\tlearn: 2253.1766726\ttotal: 1.71s\tremaining: 6.8s\n",
      "400:\tlearn: 2216.4405432\ttotal: 3.36s\tremaining: 5.03s\n",
      "600:\tlearn: 2203.3822028\ttotal: 5.02s\tremaining: 3.33s\n",
      "800:\tlearn: 2195.5948220\ttotal: 6.69s\tremaining: 1.66s\n",
      "999:\tlearn: 2189.9355565\ttotal: 8.35s\tremaining: 0us\n",
      "0:\tlearn: 4393.2034885\ttotal: 66.3ms\tremaining: 1m 6s\n",
      "200:\tlearn: 1758.1722757\ttotal: 9.39s\tremaining: 37.3s\n",
      "400:\tlearn: 1690.4880353\ttotal: 18.9s\tremaining: 28.3s\n",
      "600:\tlearn: 1655.3994918\ttotal: 28.7s\tremaining: 19.1s\n",
      "800:\tlearn: 1630.1414890\ttotal: 38.8s\tremaining: 9.65s\n",
      "999:\tlearn: 1610.8464875\ttotal: 48.8s\tremaining: 0us\n",
      "0:\tlearn: 4388.0539348\ttotal: 64.3ms\tremaining: 1m 4s\n",
      "200:\tlearn: 1746.3986166\ttotal: 9.72s\tremaining: 38.7s\n",
      "400:\tlearn: 1684.6877694\ttotal: 19.4s\tremaining: 28.9s\n",
      "600:\tlearn: 1652.6093556\ttotal: 30s\tremaining: 19.9s\n",
      "800:\tlearn: 1627.5161535\ttotal: 40.3s\tremaining: 10s\n",
      "999:\tlearn: 1611.2086303\ttotal: 50.5s\tremaining: 0us\n",
      "0:\tlearn: 4392.0185343\ttotal: 91.5ms\tremaining: 1m 31s\n",
      "200:\tlearn: 1744.4133437\ttotal: 9.86s\tremaining: 39.2s\n",
      "400:\tlearn: 1674.7742988\ttotal: 19.4s\tremaining: 28.9s\n",
      "600:\tlearn: 1639.0656905\ttotal: 29.2s\tremaining: 19.4s\n",
      "800:\tlearn: 1615.2170486\ttotal: 38.8s\tremaining: 9.65s\n",
      "999:\tlearn: 1595.2376352\ttotal: 48.8s\tremaining: 0us\n",
      "0:\tlearn: 4257.8938116\ttotal: 63.9ms\tremaining: 1m 3s\n",
      "200:\tlearn: 1716.4279120\ttotal: 9.78s\tremaining: 38.9s\n",
      "400:\tlearn: 1659.1611982\ttotal: 19.6s\tremaining: 29.3s\n",
      "600:\tlearn: 1623.5701878\ttotal: 30.1s\tremaining: 20s\n",
      "800:\tlearn: 1598.3618960\ttotal: 40.2s\tremaining: 9.99s\n",
      "999:\tlearn: 1578.6413067\ttotal: 50.5s\tremaining: 0us\n",
      "0:\tlearn: 4252.8091262\ttotal: 64ms\tremaining: 1m 3s\n",
      "200:\tlearn: 1711.1744868\ttotal: 9.65s\tremaining: 38.4s\n",
      "400:\tlearn: 1650.5225452\ttotal: 19.9s\tremaining: 29.7s\n",
      "600:\tlearn: 1619.3279652\ttotal: 31.1s\tremaining: 20.6s\n",
      "800:\tlearn: 1593.8096947\ttotal: 41.3s\tremaining: 10.3s\n",
      "999:\tlearn: 1575.0435641\ttotal: 51.8s\tremaining: 0us\n",
      "0:\tlearn: 4257.0026243\ttotal: 65.7ms\tremaining: 1m 5s\n",
      "200:\tlearn: 1704.3196662\ttotal: 9.64s\tremaining: 38.3s\n",
      "400:\tlearn: 1643.0244032\ttotal: 19.7s\tremaining: 29.4s\n",
      "600:\tlearn: 1610.7246913\ttotal: 30.5s\tremaining: 20.3s\n",
      "800:\tlearn: 1586.1863443\ttotal: 41.5s\tremaining: 10.3s\n",
      "999:\tlearn: 1567.4183548\ttotal: 51.7s\tremaining: 0us\n",
      "0:\tlearn: 4257.5743127\ttotal: 88.7ms\tremaining: 1m 28s\n",
      "200:\tlearn: 1710.1990681\ttotal: 15.5s\tremaining: 1m 1s\n",
      "400:\tlearn: 1655.1791599\ttotal: 31.3s\tremaining: 46.8s\n",
      "600:\tlearn: 1624.6204248\ttotal: 47.5s\tremaining: 31.5s\n",
      "800:\tlearn: 1602.7937615\ttotal: 1m 3s\tremaining: 15.7s\n",
      "999:\tlearn: 1586.4474810\ttotal: 1m 19s\tremaining: 0us\n"
     ]
    },
    {
     "data": {
      "text/plain": [
       "GridSearchCV(cv=3, error_score=nan,\n",
       "             estimator=<catboost.core.CatBoostRegressor object at 0x000001E43FEA5608>,\n",
       "             iid='deprecated', n_jobs=None,\n",
       "             param_grid={'depth': [1, 5], 'learning_rate': [0.1, 0.15]},\n",
       "             pre_dispatch='2*n_jobs', refit=True, return_train_score=False,\n",
       "             scoring='neg_mean_squared_error', verbose=0)"
      ]
     },
     "execution_count": 162,
     "metadata": {},
     "output_type": "execute_result"
    }
   ],
   "source": [
    "model = CatBoostRegressor()\n",
    "params = {'learning_rate' : [0.1, 0.15], 'depth': [1,5]}\n",
    "\n",
    "grid_search = GridSearchCV(model, params, scoring=\"neg_mean_squared_error\", cv = 3)\n",
    "grid_search.fit(features_train, target_train, cat_features=cat_features, verbose=200)"
   ]
  },
  {
   "cell_type": "code",
   "execution_count": 163,
   "metadata": {},
   "outputs": [
    {
     "data": {
      "text/plain": [
       "{'depth': 5, 'learning_rate': 0.15}"
      ]
     },
     "execution_count": 163,
     "metadata": {},
     "output_type": "execute_result"
    }
   ],
   "source": [
    "grid_search.best_params_"
   ]
  },
  {
   "cell_type": "code",
   "execution_count": 165,
   "metadata": {},
   "outputs": [],
   "source": [
    "model=grid_search.best_estimator_"
   ]
  },
  {
   "cell_type": "code",
   "execution_count": 166,
   "metadata": {},
   "outputs": [
    {
     "name": "stdout",
     "output_type": "stream",
     "text": [
      "0:\tlearn: 4257.5743127\ttotal: 87.7ms\tremaining: 1m 27s\n",
      "200:\tlearn: 1710.1990681\ttotal: 16.3s\tremaining: 1m 4s\n",
      "400:\tlearn: 1655.1791599\ttotal: 32.9s\tremaining: 49.2s\n",
      "600:\tlearn: 1624.6204248\ttotal: 49s\tremaining: 32.5s\n",
      "800:\tlearn: 1602.7937615\ttotal: 1m 6s\tremaining: 16.5s\n",
      "999:\tlearn: 1586.4474810\ttotal: 1m 23s\tremaining: 0us\n"
     ]
    }
   ],
   "source": [
    "start=time.time()\n",
    "model.fit(features_train, target_train, cat_features=cat_features, verbose=200) ### время обучения\n",
    "table.loc['Catboost', 'fit_time']=time.time()-start"
   ]
  },
  {
   "cell_type": "code",
   "execution_count": 167,
   "metadata": {},
   "outputs": [],
   "source": [
    "start=time.time()\n",
    "predictions = model.predict(features_valid) ### время предсказания\n",
    "table.loc['Catboost', 'predict_time']=time.time()-start"
   ]
  },
  {
   "cell_type": "code",
   "execution_count": 168,
   "metadata": {},
   "outputs": [
    {
     "data": {
      "text/plain": [
       "1635.460531590162"
      ]
     },
     "execution_count": 168,
     "metadata": {},
     "output_type": "execute_result"
    }
   ],
   "source": [
    "rmse=mean_squared_error(target_valid, predictions)**0.5\n",
    "table.loc['Catboost', 'rmse']=rmse\n",
    "rmse"
   ]
  },
  {
   "cell_type": "markdown",
   "metadata": {},
   "source": [
    "### LGBM"
   ]
  },
  {
   "cell_type": "markdown",
   "metadata": {},
   "source": [
    "Порядковое кодирование категориальных признаков"
   ]
  },
  {
   "cell_type": "code",
   "execution_count": 169,
   "metadata": {},
   "outputs": [
    {
     "data": {
      "text/html": [
       "<div>\n",
       "<style scoped>\n",
       "    .dataframe tbody tr th:only-of-type {\n",
       "        vertical-align: middle;\n",
       "    }\n",
       "\n",
       "    .dataframe tbody tr th {\n",
       "        vertical-align: top;\n",
       "    }\n",
       "\n",
       "    .dataframe thead th {\n",
       "        text-align: right;\n",
       "    }\n",
       "</style>\n",
       "<table border=\"1\" class=\"dataframe\">\n",
       "  <thead>\n",
       "    <tr style=\"text-align: right;\">\n",
       "      <th></th>\n",
       "      <th>VehicleType</th>\n",
       "      <th>Gearbox</th>\n",
       "      <th>Model</th>\n",
       "      <th>FuelType</th>\n",
       "      <th>Brand</th>\n",
       "      <th>NotRepaired</th>\n",
       "      <th>Price</th>\n",
       "      <th>RegistrationYear</th>\n",
       "      <th>Power</th>\n",
       "      <th>Kilometer</th>\n",
       "    </tr>\n",
       "  </thead>\n",
       "  <tbody>\n",
       "    <tr>\n",
       "      <th>0</th>\n",
       "      <td>6.0</td>\n",
       "      <td>0.0</td>\n",
       "      <td>117.0</td>\n",
       "      <td>2.0</td>\n",
       "      <td>14.0</td>\n",
       "      <td>0.0</td>\n",
       "      <td>9800</td>\n",
       "      <td>2004</td>\n",
       "      <td>163</td>\n",
       "      <td>125000</td>\n",
       "    </tr>\n",
       "    <tr>\n",
       "      <th>1</th>\n",
       "      <td>5.0</td>\n",
       "      <td>1.0</td>\n",
       "      <td>116.0</td>\n",
       "      <td>6.0</td>\n",
       "      <td>37.0</td>\n",
       "      <td>0.0</td>\n",
       "      <td>1500</td>\n",
       "      <td>2001</td>\n",
       "      <td>75</td>\n",
       "      <td>150000</td>\n",
       "    </tr>\n",
       "    <tr>\n",
       "      <th>2</th>\n",
       "      <td>5.0</td>\n",
       "      <td>1.0</td>\n",
       "      <td>101.0</td>\n",
       "      <td>2.0</td>\n",
       "      <td>31.0</td>\n",
       "      <td>0.0</td>\n",
       "      <td>3600</td>\n",
       "      <td>2008</td>\n",
       "      <td>69</td>\n",
       "      <td>90000</td>\n",
       "    </tr>\n",
       "    <tr>\n",
       "      <th>3</th>\n",
       "      <td>4.0</td>\n",
       "      <td>1.0</td>\n",
       "      <td>11.0</td>\n",
       "      <td>6.0</td>\n",
       "      <td>2.0</td>\n",
       "      <td>1.0</td>\n",
       "      <td>650</td>\n",
       "      <td>1995</td>\n",
       "      <td>102</td>\n",
       "      <td>150000</td>\n",
       "    </tr>\n",
       "    <tr>\n",
       "      <th>4</th>\n",
       "      <td>1.0</td>\n",
       "      <td>1.0</td>\n",
       "      <td>8.0</td>\n",
       "      <td>6.0</td>\n",
       "      <td>25.0</td>\n",
       "      <td>0.0</td>\n",
       "      <td>2200</td>\n",
       "      <td>2004</td>\n",
       "      <td>109</td>\n",
       "      <td>150000</td>\n",
       "    </tr>\n",
       "    <tr>\n",
       "      <th>...</th>\n",
       "      <td>...</td>\n",
       "      <td>...</td>\n",
       "      <td>...</td>\n",
       "      <td>...</td>\n",
       "      <td>...</td>\n",
       "      <td>...</td>\n",
       "      <td>...</td>\n",
       "      <td>...</td>\n",
       "      <td>...</td>\n",
       "      <td>...</td>\n",
       "    </tr>\n",
       "    <tr>\n",
       "      <th>245057</th>\n",
       "      <td>4.0</td>\n",
       "      <td>0.0</td>\n",
       "      <td>4.0</td>\n",
       "      <td>6.0</td>\n",
       "      <td>0.0</td>\n",
       "      <td>0.0</td>\n",
       "      <td>5250</td>\n",
       "      <td>2016</td>\n",
       "      <td>150</td>\n",
       "      <td>150000</td>\n",
       "    </tr>\n",
       "    <tr>\n",
       "      <th>245058</th>\n",
       "      <td>4.0</td>\n",
       "      <td>1.0</td>\n",
       "      <td>140.0</td>\n",
       "      <td>6.0</td>\n",
       "      <td>30.0</td>\n",
       "      <td>1.0</td>\n",
       "      <td>3200</td>\n",
       "      <td>2004</td>\n",
       "      <td>225</td>\n",
       "      <td>150000</td>\n",
       "    </tr>\n",
       "    <tr>\n",
       "      <th>245059</th>\n",
       "      <td>1.0</td>\n",
       "      <td>0.0</td>\n",
       "      <td>106.0</td>\n",
       "      <td>6.0</td>\n",
       "      <td>32.0</td>\n",
       "      <td>0.0</td>\n",
       "      <td>1199</td>\n",
       "      <td>2000</td>\n",
       "      <td>101</td>\n",
       "      <td>125000</td>\n",
       "    </tr>\n",
       "    <tr>\n",
       "      <th>245060</th>\n",
       "      <td>0.0</td>\n",
       "      <td>1.0</td>\n",
       "      <td>223.0</td>\n",
       "      <td>2.0</td>\n",
       "      <td>37.0</td>\n",
       "      <td>0.0</td>\n",
       "      <td>9200</td>\n",
       "      <td>1996</td>\n",
       "      <td>102</td>\n",
       "      <td>150000</td>\n",
       "    </tr>\n",
       "    <tr>\n",
       "      <th>245061</th>\n",
       "      <td>7.0</td>\n",
       "      <td>1.0</td>\n",
       "      <td>116.0</td>\n",
       "      <td>2.0</td>\n",
       "      <td>37.0</td>\n",
       "      <td>0.0</td>\n",
       "      <td>3400</td>\n",
       "      <td>2002</td>\n",
       "      <td>100</td>\n",
       "      <td>150000</td>\n",
       "    </tr>\n",
       "  </tbody>\n",
       "</table>\n",
       "<p>245062 rows × 10 columns</p>\n",
       "</div>"
      ],
      "text/plain": [
       "        VehicleType  Gearbox  Model  FuelType  Brand  NotRepaired  Price  \\\n",
       "0               6.0      0.0  117.0       2.0   14.0          0.0   9800   \n",
       "1               5.0      1.0  116.0       6.0   37.0          0.0   1500   \n",
       "2               5.0      1.0  101.0       2.0   31.0          0.0   3600   \n",
       "3               4.0      1.0   11.0       6.0    2.0          1.0    650   \n",
       "4               1.0      1.0    8.0       6.0   25.0          0.0   2200   \n",
       "...             ...      ...    ...       ...    ...          ...    ...   \n",
       "245057          4.0      0.0    4.0       6.0    0.0          0.0   5250   \n",
       "245058          4.0      1.0  140.0       6.0   30.0          1.0   3200   \n",
       "245059          1.0      0.0  106.0       6.0   32.0          0.0   1199   \n",
       "245060          0.0      1.0  223.0       2.0   37.0          0.0   9200   \n",
       "245061          7.0      1.0  116.0       2.0   37.0          0.0   3400   \n",
       "\n",
       "        RegistrationYear  Power  Kilometer  \n",
       "0                   2004    163     125000  \n",
       "1                   2001     75     150000  \n",
       "2                   2008     69      90000  \n",
       "3                   1995    102     150000  \n",
       "4                   2004    109     150000  \n",
       "...                  ...    ...        ...  \n",
       "245057              2016    150     150000  \n",
       "245058              2004    225     150000  \n",
       "245059              2000    101     125000  \n",
       "245060              1996    102     150000  \n",
       "245061              2002    100     150000  \n",
       "\n",
       "[245062 rows x 10 columns]"
      ]
     },
     "execution_count": 169,
     "metadata": {},
     "output_type": "execute_result"
    }
   ],
   "source": [
    "df_model=df_model.reset_index(drop=True)\n",
    "\n",
    "from sklearn.preprocessing import OrdinalEncoder\n",
    "encoder=OrdinalEncoder()\n",
    "data_ordinal=pd.DataFrame(encoder.fit_transform(df_model.drop(columns=['Price', 'RegistrationYear', 'Power', 'Kilometer'])),\n",
    "                          columns=df_model.drop(columns=['Price', 'RegistrationYear', 'Power', 'Kilometer']).columns)\n",
    "\n",
    "data_ordinal=pd.concat([data_ordinal, df_model.loc[:, ['Price', 'RegistrationYear', 'Power', 'Kilometer']]], axis=1)\n",
    "data_ordinal"
   ]
  },
  {
   "cell_type": "code",
   "execution_count": 170,
   "metadata": {},
   "outputs": [],
   "source": [
    "features = data_ordinal.drop('Price', axis=1)\n",
    "target = data_ordinal['Price']"
   ]
  },
  {
   "cell_type": "code",
   "execution_count": 171,
   "metadata": {},
   "outputs": [
    {
     "data": {
      "text/plain": [
       "((183796, 9), (61266, 9), (183796,), (61266,))"
      ]
     },
     "execution_count": 171,
     "metadata": {},
     "output_type": "execute_result"
    }
   ],
   "source": [
    "x_train, x_test, y_train, y_test = train_test_split(features, target, test_size = 0.25, random_state = 12345)\n",
    "x_train.shape, x_test.shape, y_train.shape, y_test.shape"
   ]
  },
  {
   "cell_type": "code",
   "execution_count": 172,
   "metadata": {
    "scrolled": false
   },
   "outputs": [
    {
     "name": "stdout",
     "output_type": "stream",
     "text": [
      "Fitting 3 folds for each of 8 candidates, totalling 24 fits\n"
     ]
    },
    {
     "name": "stderr",
     "output_type": "stream",
     "text": [
      "[Parallel(n_jobs=-1)]: Using backend LokyBackend with 8 concurrent workers.\n",
      "[Parallel(n_jobs=-1)]: Done   2 tasks      | elapsed:    9.4s\n",
      "[Parallel(n_jobs=-1)]: Done  14 out of  24 | elapsed:   20.3s remaining:   14.5s\n",
      "[Parallel(n_jobs=-1)]: Done  19 out of  24 | elapsed:   27.5s remaining:    7.2s\n",
      "[Parallel(n_jobs=-1)]: Done  24 out of  24 | elapsed:   29.9s remaining:    0.0s\n",
      "[Parallel(n_jobs=-1)]: Done  24 out of  24 | elapsed:   29.9s finished\n",
      "C:\\Users\\Susanna\\anaconda3\\lib\\site-packages\\lightgbm\\basic.py:1295: UserWarning: categorical_feature in Dataset is overridden.\n",
      "New categorical_feature is ['Brand', 'FuelType', 'Gearbox', 'Model', 'NotRepaired', 'VehicleType']\n",
      "  'New categorical_feature is {}'.format(sorted(list(categorical_feature))))\n"
     ]
    },
    {
     "data": {
      "text/plain": [
       "GridSearchCV(cv=3, error_score=nan,\n",
       "             estimator=LGBMRegressor(boosting_type='gbdt', class_weight=None,\n",
       "                                     colsample_bytree=1.0,\n",
       "                                     importance_type='split', learning_rate=0.1,\n",
       "                                     max_depth=-1, min_child_samples=20,\n",
       "                                     min_child_weight=0.001, min_split_gain=0.0,\n",
       "                                     n_estimators=100, n_jobs=-1, num_leaves=31,\n",
       "                                     objective=None, random_state=12345,\n",
       "                                     reg_alpha=0.0, reg_lambda=0.0, silent=True,\n",
       "                                     subsample=1.0, subsample_for_bin=200000,\n",
       "                                     subsample_freq=0),\n",
       "             iid='deprecated', n_jobs=-1,\n",
       "             param_grid={'learning_rate': [0.01, 0.05], 'max_bin': [300, 500],\n",
       "                         'num_leaves': [150, 300]},\n",
       "             pre_dispatch='2*n_jobs', refit=True, return_train_score=False,\n",
       "             scoring='neg_mean_squared_error', verbose=5)"
      ]
     },
     "execution_count": 172,
     "metadata": {},
     "output_type": "execute_result"
    }
   ],
   "source": [
    "model = LGBMRegressor(random_state=12345)\n",
    "params = {\"max_bin\": [300,500],\n",
    "              \"learning_rate\" : [0.01,0.05],\n",
    "              \"num_leaves\": [150, 300]}\n",
    "grid_search = GridSearchCV(model, n_jobs=-1, param_grid=params, cv = 3, scoring=\"neg_mean_squared_error\", verbose=5)\n",
    "grid_search.fit(x_train, y_train, categorical_feature =cat_features)"
   ]
  },
  {
   "cell_type": "code",
   "execution_count": 174,
   "metadata": {},
   "outputs": [
    {
     "data": {
      "text/plain": [
       "{'learning_rate': 0.05, 'max_bin': 500, 'num_leaves': 300}"
      ]
     },
     "execution_count": 174,
     "metadata": {},
     "output_type": "execute_result"
    }
   ],
   "source": [
    "grid_search.best_params_"
   ]
  },
  {
   "cell_type": "code",
   "execution_count": 175,
   "metadata": {
    "scrolled": true
   },
   "outputs": [],
   "source": [
    "model=grid_search.best_estimator_"
   ]
  },
  {
   "cell_type": "code",
   "execution_count": 176,
   "metadata": {},
   "outputs": [],
   "source": [
    "start=time.time()\n",
    "model.fit(x_train, y_train, verbose=5)\n",
    "table.loc['Lgbm', 'fit_time']=time.time()-start"
   ]
  },
  {
   "cell_type": "code",
   "execution_count": 177,
   "metadata": {
    "scrolled": true
   },
   "outputs": [],
   "source": [
    "start=time.time()\n",
    "predictions = model.predict(x_test)\n",
    "table.loc['Lgbm', 'predict_time']=time.time()-start"
   ]
  },
  {
   "cell_type": "code",
   "execution_count": 178,
   "metadata": {},
   "outputs": [
    {
     "data": {
      "text/plain": [
       "1650.8190647837712"
      ]
     },
     "execution_count": 178,
     "metadata": {},
     "output_type": "execute_result"
    }
   ],
   "source": [
    "rmse=mean_squared_error(y_test, predictions)**0.5\n",
    "table.loc['Lgbm', 'rmse']=rmse\n",
    "rmse"
   ]
  },
  {
   "cell_type": "markdown",
   "metadata": {},
   "source": [
    "### Случайный лес"
   ]
  },
  {
   "cell_type": "code",
   "execution_count": 179,
   "metadata": {},
   "outputs": [
    {
     "data": {
      "text/plain": [
       "GridSearchCV(cv=3, error_score=nan,\n",
       "             estimator=RandomForestRegressor(bootstrap=True, ccp_alpha=0.0,\n",
       "                                             criterion='mse', max_depth=None,\n",
       "                                             max_features='auto',\n",
       "                                             max_leaf_nodes=None,\n",
       "                                             max_samples=None,\n",
       "                                             min_impurity_decrease=0.0,\n",
       "                                             min_impurity_split=None,\n",
       "                                             min_samples_leaf=1,\n",
       "                                             min_samples_split=2,\n",
       "                                             min_weight_fraction_leaf=0.0,\n",
       "                                             n_estimators=100, n_jobs=None,\n",
       "                                             oob_score=False,\n",
       "                                             random_state=12345, verbose=0,\n",
       "                                             warm_start=False),\n",
       "             iid='deprecated', n_jobs=-1,\n",
       "             param_grid={'max_depth': (1, 5), 'n_estimators': (1, 100)},\n",
       "             pre_dispatch='2*n_jobs', refit=True, return_train_score=False,\n",
       "             scoring='neg_mean_squared_error', verbose=0)"
      ]
     },
     "execution_count": 179,
     "metadata": {},
     "output_type": "execute_result"
    }
   ],
   "source": [
    "model = RandomForestRegressor(random_state=12345)\n",
    "params = {\"max_depth\": (1,5), \"n_estimators\":(1,100)}\n",
    "grid_search = GridSearchCV(model, n_jobs=-1, param_grid=params, cv = 3, scoring=\"neg_mean_squared_error\")\n",
    "grid_search.fit(x_train, y_train)"
   ]
  },
  {
   "cell_type": "code",
   "execution_count": 181,
   "metadata": {},
   "outputs": [
    {
     "data": {
      "text/plain": [
       "{'max_depth': 5, 'n_estimators': 100}"
      ]
     },
     "execution_count": 181,
     "metadata": {},
     "output_type": "execute_result"
    }
   ],
   "source": [
    "grid_search.best_params_"
   ]
  },
  {
   "cell_type": "code",
   "execution_count": 182,
   "metadata": {},
   "outputs": [],
   "source": [
    "model=grid_search.best_estimator_"
   ]
  },
  {
   "cell_type": "code",
   "execution_count": 183,
   "metadata": {},
   "outputs": [],
   "source": [
    "start=time.time()\n",
    "model.fit(x_train, y_train)\n",
    "table.loc['RandomForest', 'fit_time']=time.time()-start"
   ]
  },
  {
   "cell_type": "code",
   "execution_count": 184,
   "metadata": {},
   "outputs": [],
   "source": [
    "start=time.time()\n",
    "predictions = model.predict(x_test)\n",
    "table.loc['RandomForest', 'predict_time']=time.time()-start"
   ]
  },
  {
   "cell_type": "code",
   "execution_count": 185,
   "metadata": {},
   "outputs": [
    {
     "data": {
      "text/plain": [
       "2501.946417652129"
      ]
     },
     "execution_count": 185,
     "metadata": {},
     "output_type": "execute_result"
    }
   ],
   "source": [
    "rmse=mean_squared_error(y_test, predictions)**0.5\n",
    "table.loc['RandomForest', 'rmse']=rmse\n",
    "rmse"
   ]
  },
  {
   "cell_type": "markdown",
   "metadata": {},
   "source": [
    "### Константная модель"
   ]
  },
  {
   "cell_type": "code",
   "execution_count": 186,
   "metadata": {},
   "outputs": [
    {
     "data": {
      "text/plain": [
       "4946.516611349963"
      ]
     },
     "execution_count": 186,
     "metadata": {},
     "output_type": "execute_result"
    }
   ],
   "source": [
    "a=target_train.median() ### верно, константу следует вычислять по обучающей выборке\n",
    "constant=[a]*target_valid.shape[0]\n",
    "rmse=mean_squared_error(target_valid, constant)**0.5 ### должна быть тестовая выборка\n",
    "table.loc['Constant_model', 'rmse']=rmse\n",
    "rmse"
   ]
  },
  {
   "cell_type": "markdown",
   "metadata": {},
   "source": [
    "**Вывод**    \n",
    "Использвала 3 модели: Catboost, LightGMB и RandomForest.  \n",
    "Выбрала оптимальные гиперпараметры, посчитала время обучения и время предсказания моделей.  "
   ]
  },
  {
   "cell_type": "markdown",
   "metadata": {},
   "source": [
    "## Анализ моделей"
   ]
  },
  {
   "cell_type": "code",
   "execution_count": 187,
   "metadata": {},
   "outputs": [
    {
     "data": {
      "text/html": [
       "<div>\n",
       "<style scoped>\n",
       "    .dataframe tbody tr th:only-of-type {\n",
       "        vertical-align: middle;\n",
       "    }\n",
       "\n",
       "    .dataframe tbody tr th {\n",
       "        vertical-align: top;\n",
       "    }\n",
       "\n",
       "    .dataframe thead th {\n",
       "        text-align: right;\n",
       "    }\n",
       "</style>\n",
       "<table border=\"1\" class=\"dataframe\">\n",
       "  <thead>\n",
       "    <tr style=\"text-align: right;\">\n",
       "      <th></th>\n",
       "      <th>fit_time</th>\n",
       "      <th>predict_time</th>\n",
       "      <th>rmse</th>\n",
       "    </tr>\n",
       "  </thead>\n",
       "  <tbody>\n",
       "    <tr>\n",
       "      <th>Catboost</th>\n",
       "      <td>84.428158</td>\n",
       "      <td>0.205821</td>\n",
       "      <td>1635.460532</td>\n",
       "    </tr>\n",
       "    <tr>\n",
       "      <th>Lgbm</th>\n",
       "      <td>2.667866</td>\n",
       "      <td>0.179520</td>\n",
       "      <td>1650.819065</td>\n",
       "    </tr>\n",
       "    <tr>\n",
       "      <th>RandomForest</th>\n",
       "      <td>14.248872</td>\n",
       "      <td>0.273942</td>\n",
       "      <td>2501.946418</td>\n",
       "    </tr>\n",
       "    <tr>\n",
       "      <th>Constant_model</th>\n",
       "      <td>NaN</td>\n",
       "      <td>NaN</td>\n",
       "      <td>4946.516611</td>\n",
       "    </tr>\n",
       "  </tbody>\n",
       "</table>\n",
       "</div>"
      ],
      "text/plain": [
       "                 fit_time  predict_time         rmse\n",
       "Catboost        84.428158      0.205821  1635.460532\n",
       "Lgbm             2.667866      0.179520  1650.819065\n",
       "RandomForest    14.248872      0.273942  2501.946418\n",
       "Constant_model        NaN           NaN  4946.516611"
      ]
     },
     "execution_count": 187,
     "metadata": {},
     "output_type": "execute_result"
    }
   ],
   "source": [
    "table"
   ]
  },
  {
   "cell_type": "markdown",
   "metadata": {},
   "source": [
    "## Общий вывод    \n",
    "Я использвала 3 модели: Catboost, LightGMB и RandomForest.  \n",
    "Все три показали результат лучше, чем константая модель.  \n",
    "RandomForest показала худший реузльтат rmse=2502.   \n",
    "У Lighgbm и Catboost результат похожий: rmse=1635 и 1651 соответственно.   \n",
    "При этом RandomForest обучается и предсказывает гороздо дольше, чем другие модели.   \n",
    "Самой быстрообучаемой моделью оказалась Lighgbm.  \n",
    "\n",
    "Заказчику советую модель LightGBM, так как она показала наилучший результат и по скорости и по качеству."
   ]
  }
 ],
 "metadata": {
  "kernelspec": {
   "display_name": "Python 3",
   "language": "python",
   "name": "python3"
  },
  "language_info": {
   "codemirror_mode": {
    "name": "ipython",
    "version": 3
   },
   "file_extension": ".py",
   "mimetype": "text/x-python",
   "name": "python",
   "nbconvert_exporter": "python",
   "pygments_lexer": "ipython3",
   "version": "3.8.8"
  },
  "toc": {
   "base_numbering": 1,
   "nav_menu": {},
   "number_sections": true,
   "sideBar": true,
   "skip_h1_title": true,
   "title_cell": "Содержание",
   "title_sidebar": "Contents",
   "toc_cell": true,
   "toc_position": {},
   "toc_section_display": true,
   "toc_window_display": true
  }
 },
 "nbformat": 4,
 "nbformat_minor": 2
}
