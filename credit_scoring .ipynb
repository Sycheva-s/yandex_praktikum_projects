{
 "cells": [
  {
   "cell_type": "markdown",
   "metadata": {
    "toc": true
   },
   "source": [
    "<h1>Содержание<span class=\"tocSkip\"></span></h1>\n",
    "<div class=\"toc\"><ul class=\"toc-item\"><li><span><a href=\"#Обзор-данных\" data-toc-modified-id=\"Обзор-данных-1\"><span class=\"toc-item-num\">1&nbsp;&nbsp;</span>Обзор данных</a></span></li><li><span><a href=\"#Предобработка-данных\" data-toc-modified-id=\"Предобработка-данных-2\"><span class=\"toc-item-num\">2&nbsp;&nbsp;</span>Предобработка данных</a></span><ul class=\"toc-item\"><li><span><a href=\"#Обработка-пропусков\" data-toc-modified-id=\"Обработка-пропусков-2.1\"><span class=\"toc-item-num\">2.1&nbsp;&nbsp;</span>Обработка пропусков</a></span></li><li><span><a href=\"#Замена-типа-данных\" data-toc-modified-id=\"Замена-типа-данных-2.2\"><span class=\"toc-item-num\">2.2&nbsp;&nbsp;</span>Замена типа данных</a></span></li><li><span><a href=\"#Обработка-дубликатов\" data-toc-modified-id=\"Обработка-дубликатов-2.3\"><span class=\"toc-item-num\">2.3&nbsp;&nbsp;</span>Обработка дубликатов</a></span></li><li><span><a href=\"#Лемматизация\" data-toc-modified-id=\"Лемматизация-2.4\"><span class=\"toc-item-num\">2.4&nbsp;&nbsp;</span>Лемматизация</a></span></li><li><span><a href=\"#Категоризация-данных\" data-toc-modified-id=\"Категоризация-данных-2.5\"><span class=\"toc-item-num\">2.5&nbsp;&nbsp;</span>Категоризация данных</a></span></li></ul></li><li><span><a href=\"#Вопросы-заказчика\" data-toc-modified-id=\"Вопросы-заказчика-3\"><span class=\"toc-item-num\">3&nbsp;&nbsp;</span>Вопросы заказчика</a></span><ul class=\"toc-item\"><li><span><a href=\"#Есть-ли-зависимость-между-наличием-детей-и-возвратом-кредита-в-срок?\" data-toc-modified-id=\"Есть-ли-зависимость-между-наличием-детей-и-возвратом-кредита-в-срок?-3.1\"><span class=\"toc-item-num\">3.1&nbsp;&nbsp;</span>Есть ли зависимость между наличием детей и возвратом кредита в срок?</a></span></li><li><span><a href=\"#Есть-ли-зависимость-между-семейным-положением-и-возвратом-кредита-в-срок?\" data-toc-modified-id=\"Есть-ли-зависимость-между-семейным-положением-и-возвратом-кредита-в-срок?-3.2\"><span class=\"toc-item-num\">3.2&nbsp;&nbsp;</span>Есть ли зависимость между семейным положением и возвратом кредита в срок?</a></span></li><li><span><a href=\"#Есть-ли-зависимость-между-уровнем-дохода-и-возвратом-кредита-в-срок?\" data-toc-modified-id=\"Есть-ли-зависимость-между-уровнем-дохода-и-возвратом-кредита-в-срок?-3.3\"><span class=\"toc-item-num\">3.3&nbsp;&nbsp;</span>Есть ли зависимость между уровнем дохода и возвратом кредита в срок?</a></span></li><li><span><a href=\"#Как-разные-цели-кредита-влияют-на-его-возврат-в-срок?\" data-toc-modified-id=\"Как-разные-цели-кредита-влияют-на-его-возврат-в-срок?-3.4\"><span class=\"toc-item-num\">3.4&nbsp;&nbsp;</span>Как разные цели кредита влияют на его возврат в срок?</a></span></li></ul></li><li><span><a href=\"#Общий-вывод\" data-toc-modified-id=\"Общий-вывод-4\"><span class=\"toc-item-num\">4&nbsp;&nbsp;</span>Общий вывод</a></span></li></ul></div>"
   ]
  },
  {
   "cell_type": "markdown",
   "metadata": {},
   "source": [
    "***Исследование надёжности заёмщиков***\n",
    "\n",
    "Заказчик — кредитный отдел банка. Нужно разобраться, влияет ли семейное положение и количество детей клиента на факт погашения кредита в срок. Входные данные от банка — статистика о платёжеспособности клиентов.\n",
    "\n",
    "Результаты исследования будут учтены при построении модели **кредитного скоринга** — специальной системы, которая оценивает способность потенциального заёмщика вернуть кредит банку.  \n",
    "\n",
    "*Описание данных*    \n",
    "children — количество детей в семье  \n",
    "days_employed — общий трудовой стаж в днях  \n",
    "dob_years — возраст клиента в годах  \n",
    "education — уровень образования клиента  \n",
    "education_id — идентификатор уровня образования  \n",
    "family_status — семейное положение  \n",
    "family_status_id — идентификатор семейного положения  \n",
    "gender — пол клиента  \n",
    "income_type — тип занятости  \n",
    "debt — имел ли задолженность по возврату кредитов  \n",
    "total_income — ежемесячный доход  \n",
    "purpose — цель получения кредита  "
   ]
  },
  {
   "cell_type": "markdown",
   "metadata": {},
   "source": [
    "### Обзор данных"
   ]
  },
  {
   "cell_type": "code",
   "execution_count": 1,
   "metadata": {},
   "outputs": [],
   "source": [
    "import pandas as pd\n",
    "from pymystem3 import Mystem"
   ]
  },
  {
   "cell_type": "code",
   "execution_count": 2,
   "metadata": {
    "scrolled": true
   },
   "outputs": [],
   "source": [
    "try:\n",
    "    df = pd.read_csv(r'C:\\Users\\Susanna\\Downloads\\data.csv')\n",
    "except:\n",
    "    df=pd.read_csv('/datasets/data.csv')"
   ]
  },
  {
   "cell_type": "markdown",
   "metadata": {},
   "source": [
    "Посмотрим сколько есть пропусков:"
   ]
  },
  {
   "cell_type": "code",
   "execution_count": 3,
   "metadata": {},
   "outputs": [
    {
     "data": {
      "text/plain": [
       "children               0\n",
       "days_employed       2174\n",
       "dob_years              0\n",
       "education              0\n",
       "education_id           0\n",
       "family_status          0\n",
       "family_status_id       0\n",
       "gender                 0\n",
       "income_type            0\n",
       "debt                   0\n",
       "total_income        2174\n",
       "purpose                0\n",
       "dtype: int64"
      ]
     },
     "execution_count": 3,
     "metadata": {},
     "output_type": "execute_result"
    }
   ],
   "source": [
    "df.isna().sum()"
   ]
  },
  {
   "cell_type": "code",
   "execution_count": 4,
   "metadata": {},
   "outputs": [
    {
     "data": {
      "text/html": [
       "<div>\n",
       "<style scoped>\n",
       "    .dataframe tbody tr th:only-of-type {\n",
       "        vertical-align: middle;\n",
       "    }\n",
       "\n",
       "    .dataframe tbody tr th {\n",
       "        vertical-align: top;\n",
       "    }\n",
       "\n",
       "    .dataframe thead th {\n",
       "        text-align: right;\n",
       "    }\n",
       "</style>\n",
       "<table border=\"1\" class=\"dataframe\">\n",
       "  <thead>\n",
       "    <tr style=\"text-align: right;\">\n",
       "      <th></th>\n",
       "      <th>children</th>\n",
       "      <th>days_employed</th>\n",
       "      <th>dob_years</th>\n",
       "      <th>education_id</th>\n",
       "      <th>family_status_id</th>\n",
       "      <th>debt</th>\n",
       "      <th>total_income</th>\n",
       "    </tr>\n",
       "  </thead>\n",
       "  <tbody>\n",
       "    <tr>\n",
       "      <th>count</th>\n",
       "      <td>21525.000000</td>\n",
       "      <td>19351.000000</td>\n",
       "      <td>21525.000000</td>\n",
       "      <td>21525.000000</td>\n",
       "      <td>21525.000000</td>\n",
       "      <td>21525.000000</td>\n",
       "      <td>1.935100e+04</td>\n",
       "    </tr>\n",
       "    <tr>\n",
       "      <th>mean</th>\n",
       "      <td>0.538908</td>\n",
       "      <td>63046.497661</td>\n",
       "      <td>43.293380</td>\n",
       "      <td>0.817236</td>\n",
       "      <td>0.972544</td>\n",
       "      <td>0.080883</td>\n",
       "      <td>1.674223e+05</td>\n",
       "    </tr>\n",
       "    <tr>\n",
       "      <th>std</th>\n",
       "      <td>1.381587</td>\n",
       "      <td>140827.311974</td>\n",
       "      <td>12.574584</td>\n",
       "      <td>0.548138</td>\n",
       "      <td>1.420324</td>\n",
       "      <td>0.272661</td>\n",
       "      <td>1.029716e+05</td>\n",
       "    </tr>\n",
       "    <tr>\n",
       "      <th>min</th>\n",
       "      <td>-1.000000</td>\n",
       "      <td>-18388.949901</td>\n",
       "      <td>0.000000</td>\n",
       "      <td>0.000000</td>\n",
       "      <td>0.000000</td>\n",
       "      <td>0.000000</td>\n",
       "      <td>2.066726e+04</td>\n",
       "    </tr>\n",
       "    <tr>\n",
       "      <th>25%</th>\n",
       "      <td>0.000000</td>\n",
       "      <td>-2747.423625</td>\n",
       "      <td>33.000000</td>\n",
       "      <td>1.000000</td>\n",
       "      <td>0.000000</td>\n",
       "      <td>0.000000</td>\n",
       "      <td>1.030532e+05</td>\n",
       "    </tr>\n",
       "    <tr>\n",
       "      <th>50%</th>\n",
       "      <td>0.000000</td>\n",
       "      <td>-1203.369529</td>\n",
       "      <td>42.000000</td>\n",
       "      <td>1.000000</td>\n",
       "      <td>0.000000</td>\n",
       "      <td>0.000000</td>\n",
       "      <td>1.450179e+05</td>\n",
       "    </tr>\n",
       "    <tr>\n",
       "      <th>75%</th>\n",
       "      <td>1.000000</td>\n",
       "      <td>-291.095954</td>\n",
       "      <td>53.000000</td>\n",
       "      <td>1.000000</td>\n",
       "      <td>1.000000</td>\n",
       "      <td>0.000000</td>\n",
       "      <td>2.034351e+05</td>\n",
       "    </tr>\n",
       "    <tr>\n",
       "      <th>max</th>\n",
       "      <td>20.000000</td>\n",
       "      <td>401755.400475</td>\n",
       "      <td>75.000000</td>\n",
       "      <td>4.000000</td>\n",
       "      <td>4.000000</td>\n",
       "      <td>1.000000</td>\n",
       "      <td>2.265604e+06</td>\n",
       "    </tr>\n",
       "  </tbody>\n",
       "</table>\n",
       "</div>"
      ],
      "text/plain": [
       "           children  days_employed     dob_years  education_id  \\\n",
       "count  21525.000000   19351.000000  21525.000000  21525.000000   \n",
       "mean       0.538908   63046.497661     43.293380      0.817236   \n",
       "std        1.381587  140827.311974     12.574584      0.548138   \n",
       "min       -1.000000  -18388.949901      0.000000      0.000000   \n",
       "25%        0.000000   -2747.423625     33.000000      1.000000   \n",
       "50%        0.000000   -1203.369529     42.000000      1.000000   \n",
       "75%        1.000000    -291.095954     53.000000      1.000000   \n",
       "max       20.000000  401755.400475     75.000000      4.000000   \n",
       "\n",
       "       family_status_id          debt  total_income  \n",
       "count      21525.000000  21525.000000  1.935100e+04  \n",
       "mean           0.972544      0.080883  1.674223e+05  \n",
       "std            1.420324      0.272661  1.029716e+05  \n",
       "min            0.000000      0.000000  2.066726e+04  \n",
       "25%            0.000000      0.000000  1.030532e+05  \n",
       "50%            0.000000      0.000000  1.450179e+05  \n",
       "75%            1.000000      0.000000  2.034351e+05  \n",
       "max            4.000000      1.000000  2.265604e+06  "
      ]
     },
     "execution_count": 4,
     "metadata": {},
     "output_type": "execute_result"
    }
   ],
   "source": [
    "df.describe()"
   ]
  },
  {
   "cell_type": "markdown",
   "metadata": {},
   "source": [
    "<b>Вывод:</b>  \n",
    "Пропуски есть в столбцах days_employed и total_income. Всего пропусков 2174 клиентов из 21525, это около 10 % всех клиентов. \n",
    "Предположим, что пропуски случайны."
   ]
  },
  {
   "cell_type": "markdown",
   "metadata": {},
   "source": [
    "### Предобработка данных"
   ]
  },
  {
   "cell_type": "markdown",
   "metadata": {},
   "source": [
    "#### Обработка пропусков"
   ]
  },
  {
   "cell_type": "markdown",
   "metadata": {},
   "source": [
    "В столбцах children, days_employed и total_income есть отрицательные знаения. Предполагаю что это резульат неправильной выгрузки данных\n",
    "Уберем все минусы перед числами:"
   ]
  },
  {
   "cell_type": "code",
   "execution_count": 5,
   "metadata": {},
   "outputs": [],
   "source": [
    "df['children']=df['children'].abs()\n",
    "df['days_employed']=df['days_employed'].abs()\n",
    "df['total_income']=df['total_income'].abs()"
   ]
  },
  {
   "cell_type": "markdown",
   "metadata": {},
   "source": [
    "Заполним пропуски средним значением из каждой группы.\n",
    "\n",
    "Найдем средние значения total_income для каждой группы income_type"
   ]
  },
  {
   "cell_type": "code",
   "execution_count": 6,
   "metadata": {},
   "outputs": [
    {
     "name": "stdout",
     "output_type": "stream",
     "text": [
      "       income_type  days_employed_mean  total_income_mean\n",
      "0      безработный       366413.652744      131339.751676\n",
      "1        в декрете         3296.759962       53829.130729\n",
      "2      госслужащий         3399.896902      170898.309923\n",
      "3        компаньон         2111.524398      202417.461462\n",
      "4        пенсионер       365003.491245      137127.465690\n",
      "5  предприниматель          520.848083      499163.144947\n",
      "6        сотрудник         2326.499216      161380.260488\n",
      "7          студент          578.751554       98201.625314\n"
     ]
    }
   ],
   "source": [
    "log = df.groupby('income_type').agg({'days_employed':['mean'], 'total_income': ['mean']}).reset_index()\n",
    "log.set_axis(['income_type', 'days_employed_mean', 'total_income_mean'], axis='columns', inplace=True)\n",
    "log=log.sort_values(by='income_type')\n",
    "\n",
    "print(log)"
   ]
  },
  {
   "cell_type": "markdown",
   "metadata": {},
   "source": [
    "Создадим ф-ии для замены пропусков:"
   ]
  },
  {
   "cell_type": "code",
   "execution_count": 7,
   "metadata": {},
   "outputs": [],
   "source": [
    "def func(row):\n",
    "    if row['days_employed']==row['days_employed']:\n",
    "        return row['days_employed']\n",
    "    else:\n",
    "        if row['income_type']=='сотрудник':\n",
    "            return log.loc[6, 'days_employed_mean']\n",
    "        elif row['income_type']=='компаньон':\n",
    "            return log.loc[3, 'days_employed_mean']\n",
    "        elif row['income_type']=='пенсионер':\n",
    "            return log.loc[4, 'days_employed_mean']\n",
    "        elif row['income_type']=='госслужащий':\n",
    "            return log.loc[2, 'days_employed_mean']\n",
    "        elif row['income_type']=='предприниматель':\n",
    "            return log.loc[5, 'days_employed_mean']"
   ]
  },
  {
   "cell_type": "code",
   "execution_count": 8,
   "metadata": {},
   "outputs": [],
   "source": [
    "def func2(row):\n",
    "    if row['total_income']==row['total_income']:\n",
    "        return row['total_income']\n",
    "    else:\n",
    "        if row['income_type']=='сотрудник':\n",
    "            return log.loc[6, 'total_income_mean']\n",
    "        elif row['income_type']=='компаньон':\n",
    "            return log.loc[3, 'total_income_mean']\n",
    "        elif row['income_type']=='пенсионер':\n",
    "            return log.loc[4, 'total_income_mean']\n",
    "        elif row['income_type']=='госслужащий':\n",
    "            return log.loc[2, 'total_income_mean']\n",
    "        elif row['income_type']=='предприниматель':\n",
    "            return log.loc[5, 'total_income_mean']"
   ]
  },
  {
   "cell_type": "code",
   "execution_count": 9,
   "metadata": {},
   "outputs": [],
   "source": [
    "df['days_employed']=df.apply(func, axis=1)\n",
    "df['total_income']=df.apply(func2, axis=1)"
   ]
  },
  {
   "cell_type": "markdown",
   "metadata": {},
   "source": [
    "Проверим как удалились пропуски"
   ]
  },
  {
   "cell_type": "code",
   "execution_count": 10,
   "metadata": {
    "scrolled": false
   },
   "outputs": [
    {
     "name": "stdout",
     "output_type": "stream",
     "text": [
      "<class 'pandas.core.frame.DataFrame'>\n",
      "RangeIndex: 21525 entries, 0 to 21524\n",
      "Data columns (total 12 columns):\n",
      " #   Column            Non-Null Count  Dtype  \n",
      "---  ------            --------------  -----  \n",
      " 0   children          21525 non-null  int64  \n",
      " 1   days_employed     21525 non-null  float64\n",
      " 2   dob_years         21525 non-null  int64  \n",
      " 3   education         21525 non-null  object \n",
      " 4   education_id      21525 non-null  int64  \n",
      " 5   family_status     21525 non-null  object \n",
      " 6   family_status_id  21525 non-null  int64  \n",
      " 7   gender            21525 non-null  object \n",
      " 8   income_type       21525 non-null  object \n",
      " 9   debt              21525 non-null  int64  \n",
      " 10  total_income      21525 non-null  float64\n",
      " 11  purpose           21525 non-null  object \n",
      "dtypes: float64(2), int64(5), object(5)\n",
      "memory usage: 2.0+ MB\n"
     ]
    }
   ],
   "source": [
    "df.info()"
   ]
  },
  {
   "cell_type": "markdown",
   "metadata": {},
   "source": [
    "<b>Вывод:</b>   \n",
    "Пропусков больше нет."
   ]
  },
  {
   "cell_type": "markdown",
   "metadata": {},
   "source": [
    "#### Замена типа данных"
   ]
  },
  {
   "cell_type": "markdown",
   "metadata": {},
   "source": [
    "Заменим вещественный тип данных на целочисленный:"
   ]
  },
  {
   "cell_type": "code",
   "execution_count": 11,
   "metadata": {},
   "outputs": [
    {
     "name": "stdout",
     "output_type": "stream",
     "text": [
      "<class 'pandas.core.frame.DataFrame'>\n",
      "RangeIndex: 21525 entries, 0 to 21524\n",
      "Data columns (total 12 columns):\n",
      " #   Column            Non-Null Count  Dtype \n",
      "---  ------            --------------  ----- \n",
      " 0   children          21525 non-null  int64 \n",
      " 1   days_employed     21525 non-null  int64 \n",
      " 2   dob_years         21525 non-null  int64 \n",
      " 3   education         21525 non-null  object\n",
      " 4   education_id      21525 non-null  int64 \n",
      " 5   family_status     21525 non-null  object\n",
      " 6   family_status_id  21525 non-null  int64 \n",
      " 7   gender            21525 non-null  object\n",
      " 8   income_type       21525 non-null  object\n",
      " 9   debt              21525 non-null  int64 \n",
      " 10  total_income      21525 non-null  int64 \n",
      " 11  purpose           21525 non-null  object\n",
      "dtypes: int64(7), object(5)\n",
      "memory usage: 2.0+ MB\n"
     ]
    }
   ],
   "source": [
    "df['days_employed']=df['days_employed'].astype('int')\n",
    "df['total_income']=df['total_income'].astype('int')\n",
    "\n",
    "df.info()"
   ]
  },
  {
   "cell_type": "markdown",
   "metadata": {},
   "source": [
    "<b> Вывод:</b>   \n",
    "Для замены вещественного типа данных на целочисленный был использован метод .astype"
   ]
  },
  {
   "cell_type": "markdown",
   "metadata": {},
   "source": [
    "#### Обработка дубликатов"
   ]
  },
  {
   "cell_type": "markdown",
   "metadata": {},
   "source": [
    "Для того чтобы в дальнейем корректно удалить все дубликаты\n",
    "в столбцах days_employed, family_status, gender, income_type и purpose переведем все буквы в строчные:"
   ]
  },
  {
   "cell_type": "code",
   "execution_count": 12,
   "metadata": {},
   "outputs": [],
   "source": [
    "df['education']=df['education'].str.lower()\n",
    "df['family_status']=df['family_status'].str.lower()\n",
    "df['gender']=df['gender'].str.lower()\n",
    "df['income_type']=df['income_type'].str.lower()\n",
    "df['purpose']=df['purpose'].str.lower()"
   ]
  },
  {
   "cell_type": "markdown",
   "metadata": {},
   "source": [
    "Просмотрм все уникальные значения столбцов, чтобы убедиться в отсутсвии ошибок:"
   ]
  },
  {
   "cell_type": "code",
   "execution_count": 13,
   "metadata": {},
   "outputs": [
    {
     "name": "stdout",
     "output_type": "stream",
     "text": [
      "[ 1  0  3  2  4 20  5]\n",
      "['высшее' 'среднее' 'неоконченное высшее' 'начальное' 'ученая степень']\n",
      "[0 1 2 3 4]\n",
      "['женат / замужем' 'гражданский брак' 'вдовец / вдова' 'в разводе'\n",
      " 'не женат / не замужем']\n",
      "[0 1 2 3 4]\n",
      "['f' 'm' 'xna']\n",
      "['сотрудник' 'пенсионер' 'компаньон' 'госслужащий' 'безработный'\n",
      " 'предприниматель' 'студент' 'в декрете']\n",
      "[0 1]\n",
      "['покупка жилья' 'приобретение автомобиля' 'дополнительное образование'\n",
      " 'сыграть свадьбу' 'операции с жильем' 'образование'\n",
      " 'на проведение свадьбы' 'покупка жилья для семьи' 'покупка недвижимости'\n",
      " 'покупка коммерческой недвижимости' 'покупка жилой недвижимости'\n",
      " 'строительство собственной недвижимости' 'недвижимость'\n",
      " 'строительство недвижимости' 'на покупку подержанного автомобиля'\n",
      " 'на покупку своего автомобиля' 'операции с коммерческой недвижимостью'\n",
      " 'строительство жилой недвижимости' 'жилье'\n",
      " 'операции со своей недвижимостью' 'автомобили' 'заняться образованием'\n",
      " 'сделка с подержанным автомобилем' 'получение образования' 'автомобиль'\n",
      " 'свадьба' 'получение дополнительного образования' 'покупка своего жилья'\n",
      " 'операции с недвижимостью' 'получение высшего образования'\n",
      " 'свой автомобиль' 'сделка с автомобилем' 'профильное образование'\n",
      " 'высшее образование' 'покупка жилья для сдачи' 'на покупку автомобиля'\n",
      " 'ремонт жилью' 'заняться высшим образованием']\n"
     ]
    }
   ],
   "source": [
    "print(df['children'].unique())\n",
    "print(df['education'].unique())\n",
    "print(df['education_id'].unique())\n",
    "print(df['family_status'].unique())\n",
    "print(df['family_status_id'].unique())\n",
    "print(df['gender'].unique())\n",
    "print(df['income_type'].unique())\n",
    "print(df['debt'].unique())\n",
    "print(df['purpose'].unique())"
   ]
  },
  {
   "cell_type": "code",
   "execution_count": 14,
   "metadata": {},
   "outputs": [
    {
     "data": {
      "text/plain": [
       "f      14236\n",
       "m       7288\n",
       "xna        1\n",
       "Name: gender, dtype: int64"
      ]
     },
     "execution_count": 14,
     "metadata": {},
     "output_type": "execute_result"
    }
   ],
   "source": [
    "df['gender'].value_counts()"
   ]
  },
  {
   "cell_type": "markdown",
   "metadata": {},
   "source": [
    "появилось странное значение xna, оно всего одно, поэтому я удалю эту строку"
   ]
  },
  {
   "cell_type": "code",
   "execution_count": 15,
   "metadata": {},
   "outputs": [],
   "source": [
    "df = df.loc[df['gender'] != 'xna']"
   ]
  },
  {
   "cell_type": "markdown",
   "metadata": {},
   "source": [
    "Удалим все дубликаты"
   ]
  },
  {
   "cell_type": "code",
   "execution_count": 16,
   "metadata": {},
   "outputs": [],
   "source": [
    "df=df.drop_duplicates().reset_index(drop= True)"
   ]
  },
  {
   "cell_type": "code",
   "execution_count": 17,
   "metadata": {},
   "outputs": [
    {
     "name": "stdout",
     "output_type": "stream",
     "text": [
      "<class 'pandas.core.frame.DataFrame'>\n",
      "RangeIndex: 21453 entries, 0 to 21452\n",
      "Data columns (total 12 columns):\n",
      " #   Column            Non-Null Count  Dtype \n",
      "---  ------            --------------  ----- \n",
      " 0   children          21453 non-null  int64 \n",
      " 1   days_employed     21453 non-null  int64 \n",
      " 2   dob_years         21453 non-null  int64 \n",
      " 3   education         21453 non-null  object\n",
      " 4   education_id      21453 non-null  int64 \n",
      " 5   family_status     21453 non-null  object\n",
      " 6   family_status_id  21453 non-null  int64 \n",
      " 7   gender            21453 non-null  object\n",
      " 8   income_type       21453 non-null  object\n",
      " 9   debt              21453 non-null  int64 \n",
      " 10  total_income      21453 non-null  int64 \n",
      " 11  purpose           21453 non-null  object\n",
      "dtypes: int64(7), object(5)\n",
      "memory usage: 2.0+ MB\n"
     ]
    }
   ],
   "source": [
    "df.info()"
   ]
  },
  {
   "cell_type": "markdown",
   "metadata": {},
   "source": [
    "<b> Вывод:</b>   \n",
    "После обработки дубликотов осталось 21453 строки. Для удаления дубликатов использовался метод drop_duplicates()"
   ]
  },
  {
   "cell_type": "markdown",
   "metadata": {},
   "source": [
    "#### Лемматизация"
   ]
  },
  {
   "cell_type": "markdown",
   "metadata": {},
   "source": [
    "Выделим леммы в значениях столбца с целями получения кредита"
   ]
  },
  {
   "cell_type": "code",
   "execution_count": 18,
   "metadata": {},
   "outputs": [],
   "source": [
    "m = Mystem()\n",
    "\n",
    "def lemmatization(row):\n",
    "    lemmas= m.lemmatize(row['purpose'])\n",
    "    return lemmas"
   ]
  },
  {
   "cell_type": "markdown",
   "metadata": {},
   "source": [
    "Добавим столбец с леммами"
   ]
  },
  {
   "cell_type": "code",
   "execution_count": 19,
   "metadata": {},
   "outputs": [
    {
     "name": "stdout",
     "output_type": "stream",
     "text": [
      "   children  days_employed  dob_years education  education_id  \\\n",
      "0         1           8437         42    высшее             0   \n",
      "1         1           4024         36   среднее             1   \n",
      "2         0           5623         33   среднее             1   \n",
      "3         3           4124         32   среднее             1   \n",
      "4         0         340266         53   среднее             1   \n",
      "\n",
      "      family_status  family_status_id gender income_type  debt  total_income  \\\n",
      "0   женат / замужем                 0      f   сотрудник     0        253875   \n",
      "1   женат / замужем                 0      f   сотрудник     0        112080   \n",
      "2   женат / замужем                 0      m   сотрудник     0        145885   \n",
      "3   женат / замужем                 0      m   сотрудник     0        267628   \n",
      "4  гражданский брак                 1      f   пенсионер     0        158616   \n",
      "\n",
      "                      purpose                    purpose_lemmatized  \n",
      "0               покупка жилья               [покупка,  , жилье, \\n]  \n",
      "1     приобретение автомобиля     [приобретение,  , автомобиль, \\n]  \n",
      "2               покупка жилья               [покупка,  , жилье, \\n]  \n",
      "3  дополнительное образование  [дополнительный,  , образование, \\n]  \n",
      "4             сыграть свадьбу             [сыграть,  , свадьба, \\n]  \n"
     ]
    }
   ],
   "source": [
    "df['purpose_lemmatized']=df.apply(lemmatization, axis=1)\n",
    "print(df.head())"
   ]
  },
  {
   "cell_type": "markdown",
   "metadata": {},
   "source": [
    "<b> Вывод:</b>  \n",
    "Выделены леммы в столбце с целями. Видно что много одинаковых целей, записанных по-разному. Необходимо категоризировать столбец с целями."
   ]
  },
  {
   "cell_type": "markdown",
   "metadata": {},
   "source": [
    "#### Категоризация данных"
   ]
  },
  {
   "cell_type": "markdown",
   "metadata": {},
   "source": [
    "Категоризируем столбец с целями получения кредита"
   ]
  },
  {
   "cell_type": "code",
   "execution_count": 20,
   "metadata": {
    "scrolled": true
   },
   "outputs": [],
   "source": [
    "def categoryzation(row):\n",
    "    i=row['purpose_lemmatized']\n",
    "    if 'жилье' in i:\n",
    "        return 'недвижимость'\n",
    "    if 'недвижимость' in i:\n",
    "        return 'недвижимость'\n",
    "    if 'автомобиль' in i:\n",
    "        return 'автомобиль'\n",
    "    if 'образование' in i:\n",
    "        return 'образование'\n",
    "    if 'свадьба' in i:\n",
    "        return 'свадьба'\n",
    "    else:\n",
    "        return 'другое'"
   ]
  },
  {
   "cell_type": "markdown",
   "metadata": {},
   "source": [
    "Добавим столбец с категриями целей получения кредита"
   ]
  },
  {
   "cell_type": "code",
   "execution_count": 21,
   "metadata": {},
   "outputs": [
    {
     "data": {
      "text/html": [
       "<div>\n",
       "<style scoped>\n",
       "    .dataframe tbody tr th:only-of-type {\n",
       "        vertical-align: middle;\n",
       "    }\n",
       "\n",
       "    .dataframe tbody tr th {\n",
       "        vertical-align: top;\n",
       "    }\n",
       "\n",
       "    .dataframe thead th {\n",
       "        text-align: right;\n",
       "    }\n",
       "</style>\n",
       "<table border=\"1\" class=\"dataframe\">\n",
       "  <thead>\n",
       "    <tr style=\"text-align: right;\">\n",
       "      <th></th>\n",
       "      <th>children</th>\n",
       "      <th>days_employed</th>\n",
       "      <th>dob_years</th>\n",
       "      <th>education</th>\n",
       "      <th>education_id</th>\n",
       "      <th>family_status</th>\n",
       "      <th>family_status_id</th>\n",
       "      <th>gender</th>\n",
       "      <th>income_type</th>\n",
       "      <th>debt</th>\n",
       "      <th>total_income</th>\n",
       "      <th>purpose</th>\n",
       "      <th>purpose_lemmatized</th>\n",
       "      <th>purpose_category</th>\n",
       "    </tr>\n",
       "  </thead>\n",
       "  <tbody>\n",
       "    <tr>\n",
       "      <th>0</th>\n",
       "      <td>1</td>\n",
       "      <td>8437</td>\n",
       "      <td>42</td>\n",
       "      <td>высшее</td>\n",
       "      <td>0</td>\n",
       "      <td>женат / замужем</td>\n",
       "      <td>0</td>\n",
       "      <td>f</td>\n",
       "      <td>сотрудник</td>\n",
       "      <td>0</td>\n",
       "      <td>253875</td>\n",
       "      <td>покупка жилья</td>\n",
       "      <td>[покупка,  , жилье, \\n]</td>\n",
       "      <td>недвижимость</td>\n",
       "    </tr>\n",
       "    <tr>\n",
       "      <th>1</th>\n",
       "      <td>1</td>\n",
       "      <td>4024</td>\n",
       "      <td>36</td>\n",
       "      <td>среднее</td>\n",
       "      <td>1</td>\n",
       "      <td>женат / замужем</td>\n",
       "      <td>0</td>\n",
       "      <td>f</td>\n",
       "      <td>сотрудник</td>\n",
       "      <td>0</td>\n",
       "      <td>112080</td>\n",
       "      <td>приобретение автомобиля</td>\n",
       "      <td>[приобретение,  , автомобиль, \\n]</td>\n",
       "      <td>автомобиль</td>\n",
       "    </tr>\n",
       "    <tr>\n",
       "      <th>2</th>\n",
       "      <td>0</td>\n",
       "      <td>5623</td>\n",
       "      <td>33</td>\n",
       "      <td>среднее</td>\n",
       "      <td>1</td>\n",
       "      <td>женат / замужем</td>\n",
       "      <td>0</td>\n",
       "      <td>m</td>\n",
       "      <td>сотрудник</td>\n",
       "      <td>0</td>\n",
       "      <td>145885</td>\n",
       "      <td>покупка жилья</td>\n",
       "      <td>[покупка,  , жилье, \\n]</td>\n",
       "      <td>недвижимость</td>\n",
       "    </tr>\n",
       "    <tr>\n",
       "      <th>3</th>\n",
       "      <td>3</td>\n",
       "      <td>4124</td>\n",
       "      <td>32</td>\n",
       "      <td>среднее</td>\n",
       "      <td>1</td>\n",
       "      <td>женат / замужем</td>\n",
       "      <td>0</td>\n",
       "      <td>m</td>\n",
       "      <td>сотрудник</td>\n",
       "      <td>0</td>\n",
       "      <td>267628</td>\n",
       "      <td>дополнительное образование</td>\n",
       "      <td>[дополнительный,  , образование, \\n]</td>\n",
       "      <td>образование</td>\n",
       "    </tr>\n",
       "    <tr>\n",
       "      <th>4</th>\n",
       "      <td>0</td>\n",
       "      <td>340266</td>\n",
       "      <td>53</td>\n",
       "      <td>среднее</td>\n",
       "      <td>1</td>\n",
       "      <td>гражданский брак</td>\n",
       "      <td>1</td>\n",
       "      <td>f</td>\n",
       "      <td>пенсионер</td>\n",
       "      <td>0</td>\n",
       "      <td>158616</td>\n",
       "      <td>сыграть свадьбу</td>\n",
       "      <td>[сыграть,  , свадьба, \\n]</td>\n",
       "      <td>свадьба</td>\n",
       "    </tr>\n",
       "  </tbody>\n",
       "</table>\n",
       "</div>"
      ],
      "text/plain": [
       "   children  days_employed  dob_years education  education_id  \\\n",
       "0         1           8437         42    высшее             0   \n",
       "1         1           4024         36   среднее             1   \n",
       "2         0           5623         33   среднее             1   \n",
       "3         3           4124         32   среднее             1   \n",
       "4         0         340266         53   среднее             1   \n",
       "\n",
       "      family_status  family_status_id gender income_type  debt  total_income  \\\n",
       "0   женат / замужем                 0      f   сотрудник     0        253875   \n",
       "1   женат / замужем                 0      f   сотрудник     0        112080   \n",
       "2   женат / замужем                 0      m   сотрудник     0        145885   \n",
       "3   женат / замужем                 0      m   сотрудник     0        267628   \n",
       "4  гражданский брак                 1      f   пенсионер     0        158616   \n",
       "\n",
       "                      purpose                    purpose_lemmatized  \\\n",
       "0               покупка жилья               [покупка,  , жилье, \\n]   \n",
       "1     приобретение автомобиля     [приобретение,  , автомобиль, \\n]   \n",
       "2               покупка жилья               [покупка,  , жилье, \\n]   \n",
       "3  дополнительное образование  [дополнительный,  , образование, \\n]   \n",
       "4             сыграть свадьбу             [сыграть,  , свадьба, \\n]   \n",
       "\n",
       "  purpose_category  \n",
       "0     недвижимость  \n",
       "1       автомобиль  \n",
       "2     недвижимость  \n",
       "3      образование  \n",
       "4          свадьба  "
      ]
     },
     "execution_count": 21,
     "metadata": {},
     "output_type": "execute_result"
    }
   ],
   "source": [
    "df['purpose_category']=df.apply(categoryzation, axis=1) \n",
    "df.head()"
   ]
  },
  {
   "cell_type": "markdown",
   "metadata": {},
   "source": [
    "<b> Вывод:</b>  \n",
    "Объединили похожие цели в категории."
   ]
  },
  {
   "cell_type": "markdown",
   "metadata": {},
   "source": [
    "###  Вопросы заказчика"
   ]
  },
  {
   "cell_type": "markdown",
   "metadata": {},
   "source": [
    "#### Есть ли зависимость между наличием детей и возвратом кредита в срок?"
   ]
  },
  {
   "cell_type": "markdown",
   "metadata": {},
   "source": [
    "Посмотрим сколько каких значений есть в столбце debt:"
   ]
  },
  {
   "cell_type": "code",
   "execution_count": 22,
   "metadata": {},
   "outputs": [
    {
     "data": {
      "text/plain": [
       "0    19712\n",
       "1     1741\n",
       "Name: debt, dtype: int64"
      ]
     },
     "execution_count": 22,
     "metadata": {},
     "output_type": "execute_result"
    }
   ],
   "source": [
    "df['debt'].value_counts()"
   ]
  },
  {
   "cell_type": "markdown",
   "metadata": {},
   "source": [
    "Посчитаем отношение общего числа детей у тех кто имел задолженности по кредиту к общему числу самих должников.   \n",
    "И такое же отношение у тех кто платил по кредиту вовремя."
   ]
  },
  {
   "cell_type": "code",
   "execution_count": 23,
   "metadata": {},
   "outputs": [
    {
     "name": "stdout",
     "output_type": "stream",
     "text": [
      "В среднем на человека имевшего задолженности по возврату кредита приходится детей: 0.63\n",
      "В среднем на человека НЕ имевшего задолженности по возврату кредита приходится детей: 0.54\n"
     ]
    }
   ],
   "source": [
    "a=df[df['debt']==1]['children'].sum()/df[df['debt']==1]['debt'].count()\n",
    "b=df[df['debt']==0]['children'].sum()/df[df['debt']==0]['debt'].count()\n",
    "print('В среднем на человека имевшего задолженности по возврату кредита приходится детей: {:.2f}'.format(a))\n",
    "print('В среднем на человека НЕ имевшего задолженности по возврату кредита приходится детей: {:.2f}'.format(b))"
   ]
  },
  {
   "cell_type": "markdown",
   "metadata": {},
   "source": [
    "<b> Вывод: </b>   \n",
    "Тех, кто имел задолженности по возвату кредита сильно меньше. Количество детей на человека почти одинаково, однако у тех, кто никогда не имел задолженностей по кредитам их немного меньше.\n",
    "Есть ли зависимость между наличием детей и возвратом кредита в срок? - Есть. Чем меньше детей, тем лучше люди платят по кредитам."
   ]
  },
  {
   "cell_type": "markdown",
   "metadata": {},
   "source": [
    "#### Есть ли зависимость между семейным положением и возвратом кредита в срок?"
   ]
  },
  {
   "cell_type": "markdown",
   "metadata": {},
   "source": [
    "Посмотрим количесво людей в разных семейных положениях:"
   ]
  },
  {
   "cell_type": "code",
   "execution_count": 24,
   "metadata": {},
   "outputs": [
    {
     "data": {
      "text/plain": [
       "женат / замужем          12339\n",
       "гражданский брак          4150\n",
       "не женат / не замужем     2810\n",
       "в разводе                 1195\n",
       "вдовец / вдова             959\n",
       "Name: family_status, dtype: int64"
      ]
     },
     "execution_count": 24,
     "metadata": {},
     "output_type": "execute_result"
    }
   ],
   "source": [
    "df['family_status'].value_counts()"
   ]
  },
  {
   "cell_type": "markdown",
   "metadata": {},
   "source": [
    "Разделим всех клиентов на тех, кто имел задолженности, и тех, кто их не имел, в зависимость от семейного положения:"
   ]
  },
  {
   "cell_type": "code",
   "execution_count": 25,
   "metadata": {},
   "outputs": [
    {
     "data": {
      "text/html": [
       "<div>\n",
       "<style scoped>\n",
       "    .dataframe tbody tr th:only-of-type {\n",
       "        vertical-align: middle;\n",
       "    }\n",
       "\n",
       "    .dataframe tbody tr th {\n",
       "        vertical-align: top;\n",
       "    }\n",
       "\n",
       "    .dataframe thead th {\n",
       "        text-align: right;\n",
       "    }\n",
       "</style>\n",
       "<table border=\"1\" class=\"dataframe\">\n",
       "  <thead>\n",
       "    <tr style=\"text-align: right;\">\n",
       "      <th></th>\n",
       "      <th>family_status_id</th>\n",
       "      <th>family_status</th>\n",
       "      <th>ne_imeli_zadol</th>\n",
       "      <th>imeli_zadol</th>\n",
       "      <th>ratio</th>\n",
       "    </tr>\n",
       "  </thead>\n",
       "  <tbody>\n",
       "    <tr>\n",
       "      <th>2</th>\n",
       "      <td>2</td>\n",
       "      <td>вдовец / вдова</td>\n",
       "      <td>896</td>\n",
       "      <td>63</td>\n",
       "      <td>14.222222</td>\n",
       "    </tr>\n",
       "    <tr>\n",
       "      <th>3</th>\n",
       "      <td>3</td>\n",
       "      <td>в разводе</td>\n",
       "      <td>1110</td>\n",
       "      <td>85</td>\n",
       "      <td>13.058824</td>\n",
       "    </tr>\n",
       "    <tr>\n",
       "      <th>0</th>\n",
       "      <td>0</td>\n",
       "      <td>женат / замужем</td>\n",
       "      <td>11408</td>\n",
       "      <td>931</td>\n",
       "      <td>12.253491</td>\n",
       "    </tr>\n",
       "    <tr>\n",
       "      <th>1</th>\n",
       "      <td>1</td>\n",
       "      <td>гражданский брак</td>\n",
       "      <td>3762</td>\n",
       "      <td>388</td>\n",
       "      <td>9.695876</td>\n",
       "    </tr>\n",
       "    <tr>\n",
       "      <th>4</th>\n",
       "      <td>4</td>\n",
       "      <td>не женат / не замужем</td>\n",
       "      <td>2536</td>\n",
       "      <td>274</td>\n",
       "      <td>9.255474</td>\n",
       "    </tr>\n",
       "  </tbody>\n",
       "</table>\n",
       "</div>"
      ],
      "text/plain": [
       "   family_status_id          family_status  ne_imeli_zadol  imeli_zadol  \\\n",
       "2                 2         вдовец / вдова             896           63   \n",
       "3                 3              в разводе            1110           85   \n",
       "0                 0        женат / замужем           11408          931   \n",
       "1                 1       гражданский брак            3762          388   \n",
       "4                 4  не женат / не замужем            2536          274   \n",
       "\n",
       "       ratio  \n",
       "2  14.222222  \n",
       "3  13.058824  \n",
       "0  12.253491  \n",
       "1   9.695876  \n",
       "4   9.255474  "
      ]
     },
     "execution_count": 25,
     "metadata": {},
     "output_type": "execute_result"
    }
   ],
   "source": [
    "df_pivot = df.pivot_table(index=['family_status_id', 'family_status'], columns='debt', values='children', aggfunc='count').reset_index()\n",
    "\n",
    "df_pivot.set_axis(['family_status_id', 'family_status', 'ne_imeli_zadol', 'imeli_zadol'], axis='columns', inplace=True)\n",
    "df_pivot['ratio']=df_pivot['ne_imeli_zadol']/df_pivot['imeli_zadol']\n",
    "df_pivot.sort_values(by = 'ratio',ascending = False)"
   ]
  },
  {
   "cell_type": "markdown",
   "metadata": {},
   "source": [
    "<b> Вывод:</b>  \n",
    "Есть ли зависимость между семейным положением и возвратом кредита в срок? - Есть. Лучше всего расплачивались по кредитам вдовы/вдовцы, а хуже всего не женатые/не замужние. Чем выше ratio, тем лучше эти категории отдавали кредиты вовремя. "
   ]
  },
  {
   "cell_type": "markdown",
   "metadata": {},
   "source": [
    "#### Есть ли зависимость между уровнем дохода и возвратом кредита в срок?"
   ]
  },
  {
   "cell_type": "markdown",
   "metadata": {},
   "source": [
    "Посмотрим максимальную, минимальную и медианную зарплаты клиентов"
   ]
  },
  {
   "cell_type": "code",
   "execution_count": 26,
   "metadata": {},
   "outputs": [
    {
     "name": "stdout",
     "output_type": "stream",
     "text": [
      "Максимальная зарплата среди клиентов: 2265604\n",
      "Минимальная зарплата среди клиентов: 20667\n",
      "Средняя зарплата среди клиентов: 151876.0\n"
     ]
    }
   ],
   "source": [
    "print('Максимальная зарплата среди клиентов: {}'.format(df['total_income'].max()))\n",
    "print('Минимальная зарплата среди клиентов: {}'.format(df['total_income'].min()))\n",
    "median_income=df['total_income'].median()\n",
    "print('Средняя зарплата среди клиентов: {}'.format(median_income))"
   ]
  },
  {
   "cell_type": "markdown",
   "metadata": {},
   "source": [
    "Разделим условно зарплаты всех клиентов на \"высокую\", \"среднюю\" ,\"низкую\" и \"нет зарплаты\"."
   ]
  },
  {
   "cell_type": "code",
   "execution_count": 27,
   "metadata": {},
   "outputs": [],
   "source": [
    "def income_group(row):\n",
    "        i=row['total_income']\n",
    "        if i == 0:\n",
    "                return 'нет зарплаты'\n",
    "        if i < median_income:\n",
    "                return 'низкая зрплата'\n",
    "        return 'высокая зарплата'\n",
    "\n",
    "df['income_group'] = df.apply(income_group, axis=1)"
   ]
  },
  {
   "cell_type": "code",
   "execution_count": 28,
   "metadata": {},
   "outputs": [
    {
     "data": {
      "text/html": [
       "<div>\n",
       "<style scoped>\n",
       "    .dataframe tbody tr th:only-of-type {\n",
       "        vertical-align: middle;\n",
       "    }\n",
       "\n",
       "    .dataframe tbody tr th {\n",
       "        vertical-align: top;\n",
       "    }\n",
       "\n",
       "    .dataframe thead th {\n",
       "        text-align: right;\n",
       "    }\n",
       "</style>\n",
       "<table border=\"1\" class=\"dataframe\">\n",
       "  <thead>\n",
       "    <tr style=\"text-align: right;\">\n",
       "      <th></th>\n",
       "      <th>income_group</th>\n",
       "      <th>ne_imeli_zadol</th>\n",
       "      <th>imeli_zadol</th>\n",
       "      <th>ratio</th>\n",
       "    </tr>\n",
       "  </thead>\n",
       "  <tbody>\n",
       "    <tr>\n",
       "      <th>1</th>\n",
       "      <td>низкая зрплата</td>\n",
       "      <td>9824</td>\n",
       "      <td>902</td>\n",
       "      <td>0.091816</td>\n",
       "    </tr>\n",
       "    <tr>\n",
       "      <th>0</th>\n",
       "      <td>высокая зарплата</td>\n",
       "      <td>9888</td>\n",
       "      <td>839</td>\n",
       "      <td>0.084850</td>\n",
       "    </tr>\n",
       "  </tbody>\n",
       "</table>\n",
       "</div>"
      ],
      "text/plain": [
       "       income_group  ne_imeli_zadol  imeli_zadol     ratio\n",
       "1    низкая зрплата            9824          902  0.091816\n",
       "0  высокая зарплата            9888          839  0.084850"
      ]
     },
     "execution_count": 28,
     "metadata": {},
     "output_type": "execute_result"
    }
   ],
   "source": [
    "df_pivot2 = df.pivot_table(index=['income_group'], columns='debt', values='children', aggfunc='count')\n",
    "df_pivot2 = df_pivot2.reset_index()\n",
    "df_pivot2.set_axis(['income_group', 'ne_imeli_zadol', 'imeli_zadol'], axis='columns', inplace=True)\n",
    "df_pivot2['ratio']=df_pivot2['imeli_zadol']/df_pivot2['ne_imeli_zadol']\n",
    "df_pivot2.sort_values(by = 'ratio',ascending = False)"
   ]
  },
  {
   "cell_type": "markdown",
   "metadata": {},
   "source": [
    "<b> Вывод:</b>  \n",
    "Есть ли зависимость между уровнем дохода и возвратом кредита в срок? - Нет. Клиенты с любой категорией зарплаты выплачивали кредиты примерно одинаоково."
   ]
  },
  {
   "cell_type": "markdown",
   "metadata": {},
   "source": [
    "#### Как разные цели кредита влияют на его возврат в срок?"
   ]
  },
  {
   "cell_type": "code",
   "execution_count": 29,
   "metadata": {},
   "outputs": [
    {
     "data": {
      "text/plain": [
       "недвижимость    10810\n",
       "автомобиль       4306\n",
       "образование      4013\n",
       "свадьба          2324\n",
       "Name: purpose_category, dtype: int64"
      ]
     },
     "execution_count": 29,
     "metadata": {},
     "output_type": "execute_result"
    }
   ],
   "source": [
    "df['purpose_category'].value_counts()"
   ]
  },
  {
   "cell_type": "code",
   "execution_count": 30,
   "metadata": {},
   "outputs": [
    {
     "data": {
      "text/html": [
       "<div>\n",
       "<style scoped>\n",
       "    .dataframe tbody tr th:only-of-type {\n",
       "        vertical-align: middle;\n",
       "    }\n",
       "\n",
       "    .dataframe tbody tr th {\n",
       "        vertical-align: top;\n",
       "    }\n",
       "\n",
       "    .dataframe thead th {\n",
       "        text-align: right;\n",
       "    }\n",
       "</style>\n",
       "<table border=\"1\" class=\"dataframe\">\n",
       "  <thead>\n",
       "    <tr style=\"text-align: right;\">\n",
       "      <th></th>\n",
       "      <th>purpose_category</th>\n",
       "      <th>ne_imeli_zadol</th>\n",
       "      <th>imeli_zadol</th>\n",
       "      <th>ratio</th>\n",
       "    </tr>\n",
       "  </thead>\n",
       "  <tbody>\n",
       "    <tr>\n",
       "      <th>0</th>\n",
       "      <td>автомобиль</td>\n",
       "      <td>3903</td>\n",
       "      <td>403</td>\n",
       "      <td>0.103254</td>\n",
       "    </tr>\n",
       "    <tr>\n",
       "      <th>2</th>\n",
       "      <td>образование</td>\n",
       "      <td>3643</td>\n",
       "      <td>370</td>\n",
       "      <td>0.101565</td>\n",
       "    </tr>\n",
       "    <tr>\n",
       "      <th>3</th>\n",
       "      <td>свадьба</td>\n",
       "      <td>2138</td>\n",
       "      <td>186</td>\n",
       "      <td>0.086997</td>\n",
       "    </tr>\n",
       "    <tr>\n",
       "      <th>1</th>\n",
       "      <td>недвижимость</td>\n",
       "      <td>10028</td>\n",
       "      <td>782</td>\n",
       "      <td>0.077982</td>\n",
       "    </tr>\n",
       "  </tbody>\n",
       "</table>\n",
       "</div>"
      ],
      "text/plain": [
       "  purpose_category  ne_imeli_zadol  imeli_zadol     ratio\n",
       "0       автомобиль            3903          403  0.103254\n",
       "2      образование            3643          370  0.101565\n",
       "3          свадьба            2138          186  0.086997\n",
       "1     недвижимость           10028          782  0.077982"
      ]
     },
     "execution_count": 30,
     "metadata": {},
     "output_type": "execute_result"
    }
   ],
   "source": [
    "df_pivot3 = df.pivot_table(index=['purpose_category'], columns='debt', values='children', aggfunc='count').reset_index()\n",
    "\n",
    "df_pivot3.set_axis(['purpose_category', 'ne_imeli_zadol', 'imeli_zadol'], axis='columns', inplace=True)\n",
    "df_pivot3['ratio']=df_pivot3['imeli_zadol']/df_pivot3['ne_imeli_zadol']\n",
    "df_pivot3.sort_values(by = 'ratio',ascending = False)"
   ]
  },
  {
   "cell_type": "markdown",
   "metadata": {},
   "source": [
    "<b> Вывод:</b>  \n",
    "Клиенты, которые брали кредит для преобретения или ремонта недвижимости, реже имеют проблемы с возвратом, чем те, кто брал кредит на автомобиль или образование."
   ]
  },
  {
   "cell_type": "markdown",
   "metadata": {},
   "source": [
    "### Общий вывод\n",
    "Тех, кто имел задолженности по возвату кредита сильно меньше. \n",
    "Большинство клиентов платит по кредитам вовремя.\n",
    "Количество детей слабо влияет на способность вовремя возвращать деньги. Однако с появлением детей клиенты немного хуже справляются с выплатами в срок.\n",
    "Лучше всего расплачивались по кредитам вдовы/вдовцы, а хуже всего не женатые/не замужние.\n",
    "Размер зарплаты не влияет на способность вовремя оплачвать кредит.\n",
    "Клиенты, которые брали кредит для преобретения или ремонта недвижимости, реже имеют проблемы с возвратом, чем те, кто брал кредит на автомобиль или образование."
   ]
  }
 ],
 "metadata": {
  "kernelspec": {
   "display_name": "Python 3",
   "language": "python",
   "name": "python3"
  },
  "language_info": {
   "codemirror_mode": {
    "name": "ipython",
    "version": 3
   },
   "file_extension": ".py",
   "mimetype": "text/x-python",
   "name": "python",
   "nbconvert_exporter": "python",
   "pygments_lexer": "ipython3",
   "version": "3.8.8"
  },
  "toc": {
   "base_numbering": 1,
   "nav_menu": {},
   "number_sections": true,
   "sideBar": true,
   "skip_h1_title": true,
   "title_cell": "Содержание",
   "title_sidebar": "Содержание",
   "toc_cell": true,
   "toc_position": {
    "height": "calc(100% - 180px)",
    "left": "10px",
    "top": "150px",
    "width": "310px"
   },
   "toc_section_display": true,
   "toc_window_display": true
  }
 },
 "nbformat": 4,
 "nbformat_minor": 2
}
